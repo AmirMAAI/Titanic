{
  "cells": [
    {
      "cell_type": "markdown",
      "metadata": {
        "id": "view-in-github",
        "colab_type": "text"
      },
      "source": [
        "<a href=\"https://colab.research.google.com/github/AmirMAAI/Titanic/blob/main/titanic_dataset_prediction.ipynb\" target=\"_parent\"><img src=\"https://colab.research.google.com/assets/colab-badge.svg\" alt=\"Open In Colab\"/></a>"
      ]
    },
    {
      "cell_type": "markdown",
      "id": "88762d65",
      "metadata": {
        "papermill": {
          "duration": 0.058195,
          "end_time": "2022-03-14T17:22:20.889199",
          "exception": false,
          "start_time": "2022-03-14T17:22:20.831004",
          "status": "completed"
        },
        "tags": [],
        "id": "88762d65"
      },
      "source": [
        "<a id=\"1\"></a> <br>\n",
        "# 1. Import Necessary Libraries"
      ]
    },
    {
      "cell_type": "code",
      "execution_count": 1,
      "id": "758bf3c8",
      "metadata": {
        "execution": {
          "iopub.execute_input": "2022-03-14T17:22:21.010261Z",
          "iopub.status.busy": "2022-03-14T17:22:21.009408Z",
          "iopub.status.idle": "2022-03-14T17:22:22.331456Z",
          "shell.execute_reply": "2022-03-14T17:22:22.330878Z",
          "shell.execute_reply.started": "2022-03-14T17:15:26.747703Z"
        },
        "papermill": {
          "duration": 1.383129,
          "end_time": "2022-03-14T17:22:22.331616",
          "exception": false,
          "start_time": "2022-03-14T17:22:20.948487",
          "status": "completed"
        },
        "tags": [],
        "id": "758bf3c8"
      },
      "outputs": [],
      "source": [
        "import numpy as np\n",
        "import pandas as pd\n",
        "import seaborn as sns\n",
        "import matplotlib.pyplot as plt\n",
        "%matplotlib inline\n",
        "from sklearn.pipeline import Pipeline\n",
        "from sklearn.preprocessing import OneHotEncoder, LabelEncoder\n",
        "from sklearn.model_selection import train_test_split\n",
        "from sklearn.ensemble import RandomForestClassifier, GradientBoostingClassifier, ExtraTreesClassifier\n",
        "from sklearn.linear_model import LogisticRegression\n",
        "from sklearn.neighbors import KNeighborsClassifier\n",
        "from sklearn.tree import DecisionTreeClassifier\n",
        "from sklearn.neural_network import MLPClassifier\n",
        "from sklearn.svm import SVC\n",
        "from sklearn.model_selection import cross_val_score, StratifiedKFold\n",
        "from sklearn.metrics import mean_absolute_error\n",
        "from sklearn.metrics import plot_confusion_matrix,classification_report,confusion_matrix,accuracy_score"
      ]
    },
    {
      "cell_type": "markdown",
      "id": "9267d569",
      "metadata": {
        "papermill": {
          "duration": 0.058869,
          "end_time": "2022-03-14T17:22:22.449964",
          "exception": false,
          "start_time": "2022-03-14T17:22:22.391095",
          "status": "completed"
        },
        "tags": [],
        "id": "9267d569"
      },
      "source": [
        "<a id=\"1\"></a> <br>\n",
        "# 2. Import Dataset"
      ]
    },
    {
      "cell_type": "code",
      "execution_count": 2,
      "id": "05d264ad",
      "metadata": {
        "execution": {
          "iopub.execute_input": "2022-03-14T17:22:22.572281Z",
          "iopub.status.busy": "2022-03-14T17:22:22.571288Z",
          "iopub.status.idle": "2022-03-14T17:22:22.609465Z",
          "shell.execute_reply": "2022-03-14T17:22:22.610000Z",
          "shell.execute_reply.started": "2022-03-14T17:15:35.868665Z"
        },
        "papermill": {
          "duration": 0.100537,
          "end_time": "2022-03-14T17:22:22.610199",
          "exception": false,
          "start_time": "2022-03-14T17:22:22.509662",
          "status": "completed"
        },
        "tags": [],
        "id": "05d264ad"
      },
      "outputs": [],
      "source": [
        "# Import Train Dataset\n",
        "df_train = pd.read_csv('/content/titanic_train.csv')\n",
        "\n",
        "# Import Test Dataset\n",
        "df_test = pd.read_csv('/content/titanic_test.csv')\n",
        "\n",
        "# Concat Two Datasets\n",
        "df_data = pd.concat([df_train, df_test], sort=True).reset_index(drop=True)"
      ]
    },
    {
      "cell_type": "code",
      "execution_count": 3,
      "id": "abadcddf",
      "metadata": {
        "execution": {
          "iopub.execute_input": "2022-03-14T17:22:22.732052Z",
          "iopub.status.busy": "2022-03-14T17:22:22.731026Z",
          "iopub.status.idle": "2022-03-14T17:22:22.753751Z",
          "shell.execute_reply": "2022-03-14T17:22:22.754258Z",
          "shell.execute_reply.started": "2022-03-14T17:15:39.821764Z"
        },
        "papermill": {
          "duration": 0.085424,
          "end_time": "2022-03-14T17:22:22.754440",
          "exception": false,
          "start_time": "2022-03-14T17:22:22.669016",
          "status": "completed"
        },
        "tags": [],
        "colab": {
          "base_uri": "https://localhost:8080/",
          "height": 320
        },
        "id": "abadcddf",
        "outputId": "695e955a-0009-4c2a-c83e-3ca7564867de"
      },
      "outputs": [
        {
          "output_type": "execute_result",
          "data": {
            "text/plain": [
              "    Age Cabin Embarked     Fare  \\\n",
              "0  22.0   NaN        S   7.2500   \n",
              "1  38.0   C85        C  71.2833   \n",
              "2  26.0   NaN        S   7.9250   \n",
              "3  35.0  C123        S  53.1000   \n",
              "4  35.0   NaN        S   8.0500   \n",
              "\n",
              "                                                Name  Parch  PassengerId  \\\n",
              "0                            Braund, Mr. Owen Harris      0            1   \n",
              "1  Cumings, Mrs. John Bradley (Florence Briggs Th...      0            2   \n",
              "2                             Heikkinen, Miss. Laina      0            3   \n",
              "3       Futrelle, Mrs. Jacques Heath (Lily May Peel)      0            4   \n",
              "4                           Allen, Mr. William Henry      0            5   \n",
              "\n",
              "   Pclass     Sex  SibSp  Survived            Ticket  \n",
              "0       3    male      1       0.0         A/5 21171  \n",
              "1       1  female      1       1.0          PC 17599  \n",
              "2       3  female      0       1.0  STON/O2. 3101282  \n",
              "3       1  female      1       1.0            113803  \n",
              "4       3    male      0       0.0            373450  "
            ],
            "text/html": [
              "\n",
              "  <div id=\"df-536b0681-f727-4218-a9bb-2065da99cc5f\">\n",
              "    <div class=\"colab-df-container\">\n",
              "      <div>\n",
              "<style scoped>\n",
              "    .dataframe tbody tr th:only-of-type {\n",
              "        vertical-align: middle;\n",
              "    }\n",
              "\n",
              "    .dataframe tbody tr th {\n",
              "        vertical-align: top;\n",
              "    }\n",
              "\n",
              "    .dataframe thead th {\n",
              "        text-align: right;\n",
              "    }\n",
              "</style>\n",
              "<table border=\"1\" class=\"dataframe\">\n",
              "  <thead>\n",
              "    <tr style=\"text-align: right;\">\n",
              "      <th></th>\n",
              "      <th>Age</th>\n",
              "      <th>Cabin</th>\n",
              "      <th>Embarked</th>\n",
              "      <th>Fare</th>\n",
              "      <th>Name</th>\n",
              "      <th>Parch</th>\n",
              "      <th>PassengerId</th>\n",
              "      <th>Pclass</th>\n",
              "      <th>Sex</th>\n",
              "      <th>SibSp</th>\n",
              "      <th>Survived</th>\n",
              "      <th>Ticket</th>\n",
              "    </tr>\n",
              "  </thead>\n",
              "  <tbody>\n",
              "    <tr>\n",
              "      <th>0</th>\n",
              "      <td>22.0</td>\n",
              "      <td>NaN</td>\n",
              "      <td>S</td>\n",
              "      <td>7.2500</td>\n",
              "      <td>Braund, Mr. Owen Harris</td>\n",
              "      <td>0</td>\n",
              "      <td>1</td>\n",
              "      <td>3</td>\n",
              "      <td>male</td>\n",
              "      <td>1</td>\n",
              "      <td>0.0</td>\n",
              "      <td>A/5 21171</td>\n",
              "    </tr>\n",
              "    <tr>\n",
              "      <th>1</th>\n",
              "      <td>38.0</td>\n",
              "      <td>C85</td>\n",
              "      <td>C</td>\n",
              "      <td>71.2833</td>\n",
              "      <td>Cumings, Mrs. John Bradley (Florence Briggs Th...</td>\n",
              "      <td>0</td>\n",
              "      <td>2</td>\n",
              "      <td>1</td>\n",
              "      <td>female</td>\n",
              "      <td>1</td>\n",
              "      <td>1.0</td>\n",
              "      <td>PC 17599</td>\n",
              "    </tr>\n",
              "    <tr>\n",
              "      <th>2</th>\n",
              "      <td>26.0</td>\n",
              "      <td>NaN</td>\n",
              "      <td>S</td>\n",
              "      <td>7.9250</td>\n",
              "      <td>Heikkinen, Miss. Laina</td>\n",
              "      <td>0</td>\n",
              "      <td>3</td>\n",
              "      <td>3</td>\n",
              "      <td>female</td>\n",
              "      <td>0</td>\n",
              "      <td>1.0</td>\n",
              "      <td>STON/O2. 3101282</td>\n",
              "    </tr>\n",
              "    <tr>\n",
              "      <th>3</th>\n",
              "      <td>35.0</td>\n",
              "      <td>C123</td>\n",
              "      <td>S</td>\n",
              "      <td>53.1000</td>\n",
              "      <td>Futrelle, Mrs. Jacques Heath (Lily May Peel)</td>\n",
              "      <td>0</td>\n",
              "      <td>4</td>\n",
              "      <td>1</td>\n",
              "      <td>female</td>\n",
              "      <td>1</td>\n",
              "      <td>1.0</td>\n",
              "      <td>113803</td>\n",
              "    </tr>\n",
              "    <tr>\n",
              "      <th>4</th>\n",
              "      <td>35.0</td>\n",
              "      <td>NaN</td>\n",
              "      <td>S</td>\n",
              "      <td>8.0500</td>\n",
              "      <td>Allen, Mr. William Henry</td>\n",
              "      <td>0</td>\n",
              "      <td>5</td>\n",
              "      <td>3</td>\n",
              "      <td>male</td>\n",
              "      <td>0</td>\n",
              "      <td>0.0</td>\n",
              "      <td>373450</td>\n",
              "    </tr>\n",
              "  </tbody>\n",
              "</table>\n",
              "</div>\n",
              "      <button class=\"colab-df-convert\" onclick=\"convertToInteractive('df-536b0681-f727-4218-a9bb-2065da99cc5f')\"\n",
              "              title=\"Convert this dataframe to an interactive table.\"\n",
              "              style=\"display:none;\">\n",
              "        \n",
              "  <svg xmlns=\"http://www.w3.org/2000/svg\" height=\"24px\"viewBox=\"0 0 24 24\"\n",
              "       width=\"24px\">\n",
              "    <path d=\"M0 0h24v24H0V0z\" fill=\"none\"/>\n",
              "    <path d=\"M18.56 5.44l.94 2.06.94-2.06 2.06-.94-2.06-.94-.94-2.06-.94 2.06-2.06.94zm-11 1L8.5 8.5l.94-2.06 2.06-.94-2.06-.94L8.5 2.5l-.94 2.06-2.06.94zm10 10l.94 2.06.94-2.06 2.06-.94-2.06-.94-.94-2.06-.94 2.06-2.06.94z\"/><path d=\"M17.41 7.96l-1.37-1.37c-.4-.4-.92-.59-1.43-.59-.52 0-1.04.2-1.43.59L10.3 9.45l-7.72 7.72c-.78.78-.78 2.05 0 2.83L4 21.41c.39.39.9.59 1.41.59.51 0 1.02-.2 1.41-.59l7.78-7.78 2.81-2.81c.8-.78.8-2.07 0-2.86zM5.41 20L4 18.59l7.72-7.72 1.47 1.35L5.41 20z\"/>\n",
              "  </svg>\n",
              "      </button>\n",
              "      \n",
              "  <style>\n",
              "    .colab-df-container {\n",
              "      display:flex;\n",
              "      flex-wrap:wrap;\n",
              "      gap: 12px;\n",
              "    }\n",
              "\n",
              "    .colab-df-convert {\n",
              "      background-color: #E8F0FE;\n",
              "      border: none;\n",
              "      border-radius: 50%;\n",
              "      cursor: pointer;\n",
              "      display: none;\n",
              "      fill: #1967D2;\n",
              "      height: 32px;\n",
              "      padding: 0 0 0 0;\n",
              "      width: 32px;\n",
              "    }\n",
              "\n",
              "    .colab-df-convert:hover {\n",
              "      background-color: #E2EBFA;\n",
              "      box-shadow: 0px 1px 2px rgba(60, 64, 67, 0.3), 0px 1px 3px 1px rgba(60, 64, 67, 0.15);\n",
              "      fill: #174EA6;\n",
              "    }\n",
              "\n",
              "    [theme=dark] .colab-df-convert {\n",
              "      background-color: #3B4455;\n",
              "      fill: #D2E3FC;\n",
              "    }\n",
              "\n",
              "    [theme=dark] .colab-df-convert:hover {\n",
              "      background-color: #434B5C;\n",
              "      box-shadow: 0px 1px 3px 1px rgba(0, 0, 0, 0.15);\n",
              "      filter: drop-shadow(0px 1px 2px rgba(0, 0, 0, 0.3));\n",
              "      fill: #FFFFFF;\n",
              "    }\n",
              "  </style>\n",
              "\n",
              "      <script>\n",
              "        const buttonEl =\n",
              "          document.querySelector('#df-536b0681-f727-4218-a9bb-2065da99cc5f button.colab-df-convert');\n",
              "        buttonEl.style.display =\n",
              "          google.colab.kernel.accessAllowed ? 'block' : 'none';\n",
              "\n",
              "        async function convertToInteractive(key) {\n",
              "          const element = document.querySelector('#df-536b0681-f727-4218-a9bb-2065da99cc5f');\n",
              "          const dataTable =\n",
              "            await google.colab.kernel.invokeFunction('convertToInteractive',\n",
              "                                                     [key], {});\n",
              "          if (!dataTable) return;\n",
              "\n",
              "          const docLinkHtml = 'Like what you see? Visit the ' +\n",
              "            '<a target=\"_blank\" href=https://colab.research.google.com/notebooks/data_table.ipynb>data table notebook</a>'\n",
              "            + ' to learn more about interactive tables.';\n",
              "          element.innerHTML = '';\n",
              "          dataTable['output_type'] = 'display_data';\n",
              "          await google.colab.output.renderOutput(dataTable, element);\n",
              "          const docLink = document.createElement('div');\n",
              "          docLink.innerHTML = docLinkHtml;\n",
              "          element.appendChild(docLink);\n",
              "        }\n",
              "      </script>\n",
              "    </div>\n",
              "  </div>\n",
              "  "
            ]
          },
          "metadata": {},
          "execution_count": 3
        }
      ],
      "source": [
        "df_data.head()"
      ]
    },
    {
      "cell_type": "markdown",
      "id": "244489b4",
      "metadata": {
        "papermill": {
          "duration": 0.057909,
          "end_time": "2022-03-14T17:22:22.871615",
          "exception": false,
          "start_time": "2022-03-14T17:22:22.813706",
          "status": "completed"
        },
        "tags": [],
        "id": "244489b4"
      },
      "source": [
        "<a id=\"1\"></a> <br>\n",
        "# 2. Missing Values"
      ]
    },
    {
      "cell_type": "code",
      "execution_count": 4,
      "id": "c87f2b8d",
      "metadata": {
        "execution": {
          "iopub.execute_input": "2022-03-14T17:22:22.991953Z",
          "iopub.status.busy": "2022-03-14T17:22:22.990967Z",
          "iopub.status.idle": "2022-03-14T17:22:23.004196Z",
          "shell.execute_reply": "2022-03-14T17:22:23.004736Z",
          "shell.execute_reply.started": "2022-03-14T17:15:42.676471Z"
        },
        "papermill": {
          "duration": 0.07493,
          "end_time": "2022-03-14T17:22:23.004888",
          "exception": false,
          "start_time": "2022-03-14T17:22:22.929958",
          "status": "completed"
        },
        "tags": [],
        "colab": {
          "base_uri": "https://localhost:8080/"
        },
        "id": "c87f2b8d",
        "outputId": "abb70ed0-17a8-4088-ebc7-ce6291f494cb"
      },
      "outputs": [
        {
          "output_type": "execute_result",
          "data": {
            "text/plain": [
              "Age          263\n",
              "Cabin       1014\n",
              "Embarked       2\n",
              "Fare           1\n",
              "Survived     418\n",
              "dtype: int64"
            ]
          },
          "metadata": {},
          "execution_count": 4
        }
      ],
      "source": [
        "# Obtain Columns with missing_values\n",
        "missing_values = [col for col in df_data.columns if df_data[col].isnull().any()]\n",
        "df_data[missing_values].isnull().sum()"
      ]
    },
    {
      "cell_type": "code",
      "execution_count": 5,
      "id": "dbdf44ff",
      "metadata": {
        "execution": {
          "iopub.execute_input": "2022-03-14T17:22:23.121975Z",
          "iopub.status.busy": "2022-03-14T17:22:23.121411Z",
          "iopub.status.idle": "2022-03-14T17:22:23.344380Z",
          "shell.execute_reply": "2022-03-14T17:22:23.343863Z",
          "shell.execute_reply.started": "2022-03-14T17:15:45.602725Z"
        },
        "papermill": {
          "duration": 0.283365,
          "end_time": "2022-03-14T17:22:23.344532",
          "exception": false,
          "start_time": "2022-03-14T17:22:23.061167",
          "status": "completed"
        },
        "tags": [],
        "colab": {
          "base_uri": "https://localhost:8080/",
          "height": 323
        },
        "id": "dbdf44ff",
        "outputId": "a0ae546b-ebd0-4406-b200-80b9d3c80bce"
      },
      "outputs": [
        {
          "output_type": "execute_result",
          "data": {
            "text/plain": [
              "<matplotlib.axes._subplots.AxesSubplot at 0x7f9b91c05f90>"
            ]
          },
          "metadata": {},
          "execution_count": 5
        },
        {
          "output_type": "display_data",
          "data": {
            "text/plain": [
              "<Figure size 432x288 with 1 Axes>"
            ],
            "image/png": "[encoded data removed]"
          },
          "metadata": {
            "needs_background": "light"
          }
        }
      ],
      "source": [
        "df_data[missing_values].isnull().sum().plot(kind = 'bar')"
      ]
    },
    {
      "cell_type": "code",
      "execution_count": 6,
      "id": "47342422",
      "metadata": {
        "execution": {
          "iopub.execute_input": "2022-03-14T17:22:23.465463Z",
          "iopub.status.busy": "2022-03-14T17:22:23.464875Z",
          "iopub.status.idle": "2022-03-14T17:22:23.951208Z",
          "shell.execute_reply": "2022-03-14T17:22:23.951779Z",
          "shell.execute_reply.started": "2022-03-14T17:15:48.572482Z"
        },
        "papermill": {
          "duration": 0.548273,
          "end_time": "2022-03-14T17:22:23.951938",
          "exception": false,
          "start_time": "2022-03-14T17:22:23.403665",
          "status": "completed"
        },
        "tags": [],
        "colab": {
          "base_uri": "https://localhost:8080/",
          "height": 365
        },
        "id": "47342422",
        "outputId": "b29d45a5-59b1-4496-dcf9-e2a14bd5a25f"
      },
      "outputs": [
        {
          "output_type": "execute_result",
          "data": {
            "text/plain": [
              "<matplotlib.axes._subplots.AxesSubplot at 0x7f9b91698e90>"
            ]
          },
          "metadata": {},
          "execution_count": 6
        },
        {
          "output_type": "display_data",
          "data": {
            "text/plain": [
              "<Figure size 1296x432 with 3 Axes>"
            ],
            "image/png": "[encoded data removed]"
          },
          "metadata": {
            "needs_background": "light"
          }
        }
      ],
      "source": [
        "fig, axes = plt.subplots(nrows=1,ncols=3,figsize=(18,6))\n",
        "sns.countplot(x ='Survived',hue='Sex', data=df_data,ax=axes[0])\n",
        "sns.countplot(x ='Survived',hue='Pclass', data=df_data,ax=axes[1])\n",
        "sns.countplot(x ='Survived',hue='Embarked', data=df_data,ax=axes[2])"
      ]
    },
    {
      "cell_type": "code",
      "execution_count": 7,
      "id": "132978ca",
      "metadata": {
        "execution": {
          "iopub.execute_input": "2022-03-14T17:22:24.073975Z",
          "iopub.status.busy": "2022-03-14T17:22:24.073390Z",
          "iopub.status.idle": "2022-03-14T17:22:24.502473Z",
          "shell.execute_reply": "2022-03-14T17:22:24.501966Z",
          "shell.execute_reply.started": "2022-03-14T17:15:53.145186Z"
        },
        "papermill": {
          "duration": 0.490756,
          "end_time": "2022-03-14T17:22:24.502618",
          "exception": false,
          "start_time": "2022-03-14T17:22:24.011862",
          "status": "completed"
        },
        "tags": [],
        "colab": {
          "base_uri": "https://localhost:8080/",
          "height": 324
        },
        "id": "132978ca",
        "outputId": "9a872ce7-7ab8-4408-bc3f-7c7c8a5a9843"
      },
      "outputs": [
        {
          "output_type": "display_data",
          "data": {
            "text/plain": [
              "<Figure size 576x360 with 2 Axes>"
            ],
            "image/png": "[encoded data removed]"
          },
          "metadata": {
            "needs_background": "light"
          }
        }
      ],
      "source": [
        "#Corralation\n",
        "plt.figure(figsize=(8,5))\n",
        "sns.heatmap(df_data.corr(),annot=True,cmap='winter')\n",
        "plt.show()"
      ]
    },
    {
      "cell_type": "code",
      "execution_count": 8,
      "id": "785f5b7e",
      "metadata": {
        "execution": {
          "iopub.execute_input": "2022-03-14T17:22:24.630522Z",
          "iopub.status.busy": "2022-03-14T17:22:24.629890Z",
          "iopub.status.idle": "2022-03-14T17:22:24.857686Z",
          "shell.execute_reply": "2022-03-14T17:22:24.858145Z",
          "shell.execute_reply.started": "2022-03-14T17:15:57.122758Z"
        },
        "papermill": {
          "duration": 0.294208,
          "end_time": "2022-03-14T17:22:24.858319",
          "exception": false,
          "start_time": "2022-03-14T17:22:24.564111",
          "status": "completed"
        },
        "tags": [],
        "colab": {
          "base_uri": "https://localhost:8080/",
          "height": 142
        },
        "id": "785f5b7e",
        "outputId": "73376aff-e2de-4afd-c6c8-1f04ab7d465f"
      },
      "outputs": [
        {
          "output_type": "execute_result",
          "data": {
            "text/plain": [
              "<matplotlib.axes._subplots.AxesSubplot at 0x7f9b8ebe0350>"
            ]
          },
          "metadata": {},
          "execution_count": 8
        },
        {
          "output_type": "display_data",
          "data": {
            "text/plain": [
              "<Figure size 720x108 with 2 Axes>"
            ],
            "image/png": "[encoded data removed]"
          },
          "metadata": {}
        }
      ],
      "source": [
        "df_Age_corr = pd.DataFrame(df_data.corr()['Age'].abs()) \n",
        "f, ax = plt.subplots(figsize=(10,1.5),facecolor='white')\n",
        "sns.heatmap(df_Age_corr.transpose(),annot=True,square=True,linewidth=1.5,cmap='rocket')"
      ]
    },
    {
      "cell_type": "markdown",
      "id": "faeeca52",
      "metadata": {
        "papermill": {
          "duration": 0.062107,
          "end_time": "2022-03-14T17:22:24.983044",
          "exception": false,
          "start_time": "2022-03-14T17:22:24.920937",
          "status": "completed"
        },
        "tags": [],
        "id": "faeeca52"
      },
      "source": [
        "<span style=\"font-family:cursive; color:black;font-size:16px\"> Since PClass is the variable that is most correlated with both Age and Survived, we will group passengers according to the class they belong to. What we will do is replace the missing values with the median of each group.</span>"
      ]
    },
    {
      "cell_type": "code",
      "execution_count": 9,
      "id": "470323c8",
      "metadata": {
        "execution": {
          "iopub.execute_input": "2022-03-14T17:22:25.108016Z",
          "iopub.status.busy": "2022-03-14T17:22:25.107462Z",
          "iopub.status.idle": "2022-03-14T17:22:25.117100Z",
          "shell.execute_reply": "2022-03-14T17:22:25.117546Z",
          "shell.execute_reply.started": "2022-03-14T17:16:01.969669Z"
        },
        "papermill": {
          "duration": 0.072775,
          "end_time": "2022-03-14T17:22:25.117713",
          "exception": false,
          "start_time": "2022-03-14T17:22:25.044938",
          "status": "completed"
        },
        "tags": [],
        "colab": {
          "base_uri": "https://localhost:8080/"
        },
        "id": "470323c8",
        "outputId": "4bf18adf-c628-46b9-b55f-4dd19f81a5f1"
      },
      "outputs": [
        {
          "output_type": "stream",
          "name": "stdout",
          "text": [
            "Number of Missing Value for Age is : 0\n"
          ]
        }
      ],
      "source": [
        "df_data.Age = df_data.groupby(['Pclass','Sex'])['Age'].apply(lambda x: x.fillna(x.median()))\n",
        "print('Number of Missing Value for Age is : {}'.format(df_data.Age.isnull().sum()))"
      ]
    },
    {
      "cell_type": "markdown",
      "id": "557113dc",
      "metadata": {
        "papermill": {
          "duration": 0.059425,
          "end_time": "2022-03-14T17:22:25.237414",
          "exception": false,
          "start_time": "2022-03-14T17:22:25.177989",
          "status": "completed"
        },
        "tags": [],
        "id": "557113dc"
      },
      "source": [
        "<span style=\"font-family:cursive; color:black;font-size:16px\">For Embarked, we will replace the missing values by the mode, i.e. the most repeated value.</span>"
      ]
    },
    {
      "cell_type": "code",
      "execution_count": 10,
      "id": "48fb1888",
      "metadata": {
        "execution": {
          "iopub.execute_input": "2022-03-14T17:22:25.363853Z",
          "iopub.status.busy": "2022-03-14T17:22:25.363290Z",
          "iopub.status.idle": "2022-03-14T17:22:25.368847Z",
          "shell.execute_reply": "2022-03-14T17:22:25.369385Z",
          "shell.execute_reply.started": "2022-03-14T17:16:05.875454Z"
        },
        "papermill": {
          "duration": 0.069921,
          "end_time": "2022-03-14T17:22:25.369583",
          "exception": false,
          "start_time": "2022-03-14T17:22:25.299662",
          "status": "completed"
        },
        "tags": [],
        "colab": {
          "base_uri": "https://localhost:8080/"
        },
        "id": "48fb1888",
        "outputId": "4f79584e-9df2-47b4-c8e3-4c337288105b"
      },
      "outputs": [
        {
          "output_type": "execute_result",
          "data": {
            "text/plain": [
              "S    914\n",
              "C    270\n",
              "Q    123\n",
              "Name: Embarked, dtype: int64"
            ]
          },
          "metadata": {},
          "execution_count": 10
        }
      ],
      "source": [
        "df_data.Embarked.value_counts()"
      ]
    },
    {
      "cell_type": "code",
      "execution_count": 11,
      "id": "a057cd1c",
      "metadata": {
        "execution": {
          "iopub.execute_input": "2022-03-14T17:22:25.498246Z",
          "iopub.status.busy": "2022-03-14T17:22:25.497720Z",
          "iopub.status.idle": "2022-03-14T17:22:25.503588Z",
          "shell.execute_reply": "2022-03-14T17:22:25.504123Z",
          "shell.execute_reply.started": "2022-03-14T17:16:08.815660Z"
        },
        "papermill": {
          "duration": 0.072918,
          "end_time": "2022-03-14T17:22:25.504258",
          "exception": false,
          "start_time": "2022-03-14T17:22:25.431340",
          "status": "completed"
        },
        "tags": [],
        "colab": {
          "base_uri": "https://localhost:8080/"
        },
        "id": "a057cd1c",
        "outputId": "14e85dd6-9918-4bcc-acb0-11400e21b438"
      },
      "outputs": [
        {
          "output_type": "stream",
          "name": "stdout",
          "text": [
            "Number of Missing Value for Embarked is : 0\n"
          ]
        }
      ],
      "source": [
        "mode = 'S'\n",
        "df_data.Embarked.replace(np.nan, mode, inplace=True)\n",
        "print('Number of Missing Value for Embarked is : {}'.format(df_data.Embarked.isnull().sum()))"
      ]
    },
    {
      "cell_type": "markdown",
      "id": "cd0ee898",
      "metadata": {
        "papermill": {
          "duration": 0.061813,
          "end_time": "2022-03-14T17:22:25.629233",
          "exception": false,
          "start_time": "2022-03-14T17:22:25.567420",
          "status": "completed"
        },
        "tags": [],
        "id": "cd0ee898"
      },
      "source": [
        "<span style=\"font-family:cursive; color:black;font-size:16px\">We have one missing value for Fare, belonging to one male of the testing dataset. We can assume that it is related to FamilySize and PClass. Median Fare value of a male with a third class ticket and no family is a logical choice to fill the missing value.</span>"
      ]
    },
    {
      "cell_type": "code",
      "execution_count": 12,
      "id": "8e92d7dc",
      "metadata": {
        "execution": {
          "iopub.execute_input": "2022-03-14T17:22:25.755220Z",
          "iopub.status.busy": "2022-03-14T17:22:25.754547Z",
          "iopub.status.idle": "2022-03-14T17:22:25.767084Z",
          "shell.execute_reply": "2022-03-14T17:22:25.767515Z",
          "shell.execute_reply.started": "2022-03-14T17:16:11.602885Z"
        },
        "papermill": {
          "duration": 0.076367,
          "end_time": "2022-03-14T17:22:25.767683",
          "exception": false,
          "start_time": "2022-03-14T17:22:25.691316",
          "status": "completed"
        },
        "tags": [],
        "colab": {
          "base_uri": "https://localhost:8080/",
          "height": 81
        },
        "id": "8e92d7dc",
        "outputId": "45a78879-aca1-4783-bdbc-540fe655a7ed"
      },
      "outputs": [
        {
          "output_type": "execute_result",
          "data": {
            "text/plain": [
              "       Age Cabin Embarked  Fare                Name  Parch  PassengerId  \\\n",
              "1043  60.5   NaN        S   NaN  Storey, Mr. Thomas      0         1044   \n",
              "\n",
              "      Pclass   Sex  SibSp  Survived Ticket  \n",
              "1043       3  male      0       NaN   3701  "
            ],
            "text/html": [
              "\n",
              "  <div id=\"df-ec26bd95-a845-4d1a-be5e-92c455146811\">\n",
              "    <div class=\"colab-df-container\">\n",
              "      <div>\n",
              "<style scoped>\n",
              "    .dataframe tbody tr th:only-of-type {\n",
              "        vertical-align: middle;\n",
              "    }\n",
              "\n",
              "    .dataframe tbody tr th {\n",
              "        vertical-align: top;\n",
              "    }\n",
              "\n",
              "    .dataframe thead th {\n",
              "        text-align: right;\n",
              "    }\n",
              "</style>\n",
              "<table border=\"1\" class=\"dataframe\">\n",
              "  <thead>\n",
              "    <tr style=\"text-align: right;\">\n",
              "      <th></th>\n",
              "      <th>Age</th>\n",
              "      <th>Cabin</th>\n",
              "      <th>Embarked</th>\n",
              "      <th>Fare</th>\n",
              "      <th>Name</th>\n",
              "      <th>Parch</th>\n",
              "      <th>PassengerId</th>\n",
              "      <th>Pclass</th>\n",
              "      <th>Sex</th>\n",
              "      <th>SibSp</th>\n",
              "      <th>Survived</th>\n",
              "      <th>Ticket</th>\n",
              "    </tr>\n",
              "  </thead>\n",
              "  <tbody>\n",
              "    <tr>\n",
              "      <th>1043</th>\n",
              "      <td>60.5</td>\n",
              "      <td>NaN</td>\n",
              "      <td>S</td>\n",
              "      <td>NaN</td>\n",
              "      <td>Storey, Mr. Thomas</td>\n",
              "      <td>0</td>\n",
              "      <td>1044</td>\n",
              "      <td>3</td>\n",
              "      <td>male</td>\n",
              "      <td>0</td>\n",
              "      <td>NaN</td>\n",
              "      <td>3701</td>\n",
              "    </tr>\n",
              "  </tbody>\n",
              "</table>\n",
              "</div>\n",
              "      <button class=\"colab-df-convert\" onclick=\"convertToInteractive('df-ec26bd95-a845-4d1a-be5e-92c455146811')\"\n",
              "              title=\"Convert this dataframe to an interactive table.\"\n",
              "              style=\"display:none;\">\n",
              "        \n",
              "  <svg xmlns=\"http://www.w3.org/2000/svg\" height=\"24px\"viewBox=\"0 0 24 24\"\n",
              "       width=\"24px\">\n",
              "    <path d=\"M0 0h24v24H0V0z\" fill=\"none\"/>\n",
              "    <path d=\"M18.56 5.44l.94 2.06.94-2.06 2.06-.94-2.06-.94-.94-2.06-.94 2.06-2.06.94zm-11 1L8.5 8.5l.94-2.06 2.06-.94-2.06-.94L8.5 2.5l-.94 2.06-2.06.94zm10 10l.94 2.06.94-2.06 2.06-.94-2.06-.94-.94-2.06-.94 2.06-2.06.94z\"/><path d=\"M17.41 7.96l-1.37-1.37c-.4-.4-.92-.59-1.43-.59-.52 0-1.04.2-1.43.59L10.3 9.45l-7.72 7.72c-.78.78-.78 2.05 0 2.83L4 21.41c.39.39.9.59 1.41.59.51 0 1.02-.2 1.41-.59l7.78-7.78 2.81-2.81c.8-.78.8-2.07 0-2.86zM5.41 20L4 18.59l7.72-7.72 1.47 1.35L5.41 20z\"/>\n",
              "  </svg>\n",
              "      </button>\n",
              "      \n",
              "  <style>\n",
              "    .colab-df-container {\n",
              "      display:flex;\n",
              "      flex-wrap:wrap;\n",
              "      gap: 12px;\n",
              "    }\n",
              "\n",
              "    .colab-df-convert {\n",
              "      background-color: #E8F0FE;\n",
              "      border: none;\n",
              "      border-radius: 50%;\n",
              "      cursor: pointer;\n",
              "      display: none;\n",
              "      fill: #1967D2;\n",
              "      height: 32px;\n",
              "      padding: 0 0 0 0;\n",
              "      width: 32px;\n",
              "    }\n",
              "\n",
              "    .colab-df-convert:hover {\n",
              "      background-color: #E2EBFA;\n",
              "      box-shadow: 0px 1px 2px rgba(60, 64, 67, 0.3), 0px 1px 3px 1px rgba(60, 64, 67, 0.15);\n",
              "      fill: #174EA6;\n",
              "    }\n",
              "\n",
              "    [theme=dark] .colab-df-convert {\n",
              "      background-color: #3B4455;\n",
              "      fill: #D2E3FC;\n",
              "    }\n",
              "\n",
              "    [theme=dark] .colab-df-convert:hover {\n",
              "      background-color: #434B5C;\n",
              "      box-shadow: 0px 1px 3px 1px rgba(0, 0, 0, 0.15);\n",
              "      filter: drop-shadow(0px 1px 2px rgba(0, 0, 0, 0.3));\n",
              "      fill: #FFFFFF;\n",
              "    }\n",
              "  </style>\n",
              "\n",
              "      <script>\n",
              "        const buttonEl =\n",
              "          document.querySelector('#df-ec26bd95-a845-4d1a-be5e-92c455146811 button.colab-df-convert');\n",
              "        buttonEl.style.display =\n",
              "          google.colab.kernel.accessAllowed ? 'block' : 'none';\n",
              "\n",
              "        async function convertToInteractive(key) {\n",
              "          const element = document.querySelector('#df-ec26bd95-a845-4d1a-be5e-92c455146811');\n",
              "          const dataTable =\n",
              "            await google.colab.kernel.invokeFunction('convertToInteractive',\n",
              "                                                     [key], {});\n",
              "          if (!dataTable) return;\n",
              "\n",
              "          const docLinkHtml = 'Like what you see? Visit the ' +\n",
              "            '<a target=\"_blank\" href=https://colab.research.google.com/notebooks/data_table.ipynb>data table notebook</a>'\n",
              "            + ' to learn more about interactive tables.';\n",
              "          element.innerHTML = '';\n",
              "          dataTable['output_type'] = 'display_data';\n",
              "          await google.colab.output.renderOutput(dataTable, element);\n",
              "          const docLink = document.createElement('div');\n",
              "          docLink.innerHTML = docLinkHtml;\n",
              "          element.appendChild(docLink);\n",
              "        }\n",
              "      </script>\n",
              "    </div>\n",
              "  </div>\n",
              "  "
            ]
          },
          "metadata": {},
          "execution_count": 12
        }
      ],
      "source": [
        "df_data[df_data.Fare.isnull()==True]"
      ]
    },
    {
      "cell_type": "code",
      "execution_count": 13,
      "id": "4efe8e92",
      "metadata": {
        "execution": {
          "iopub.execute_input": "2022-03-14T17:22:25.895096Z",
          "iopub.status.busy": "2022-03-14T17:22:25.894215Z",
          "iopub.status.idle": "2022-03-14T17:22:25.905792Z",
          "shell.execute_reply": "2022-03-14T17:22:25.906323Z",
          "shell.execute_reply.started": "2022-03-14T17:16:14.049048Z"
        },
        "papermill": {
          "duration": 0.078078,
          "end_time": "2022-03-14T17:22:25.906481",
          "exception": false,
          "start_time": "2022-03-14T17:22:25.828403",
          "status": "completed"
        },
        "tags": [],
        "colab": {
          "base_uri": "https://localhost:8080/"
        },
        "id": "4efe8e92",
        "outputId": "c9446e32-67b5-46b4-be2c-5a4fb431f08a"
      },
      "outputs": [
        {
          "output_type": "stream",
          "name": "stdout",
          "text": [
            "Number of Missing Value for Fare is : 0\n"
          ]
        }
      ],
      "source": [
        "median_Fare = df_data.groupby(['Pclass','Parch','SibSp']).Fare.median()[3][0][0]\n",
        "df_data.Fare = df_data.Fare.fillna(median_Fare)\n",
        "print('Number of Missing Value for Fare is : {}'.format(df_data.Fare.isnull().sum()))"
      ]
    },
    {
      "cell_type": "code",
      "execution_count": 14,
      "id": "65b42c71",
      "metadata": {
        "execution": {
          "iopub.execute_input": "2022-03-14T17:22:26.035153Z",
          "iopub.status.busy": "2022-03-14T17:22:26.034290Z",
          "iopub.status.idle": "2022-03-14T17:22:26.038785Z",
          "shell.execute_reply": "2022-03-14T17:22:26.039270Z",
          "shell.execute_reply.started": "2022-03-14T17:16:16.189525Z"
        },
        "papermill": {
          "duration": 0.070764,
          "end_time": "2022-03-14T17:22:26.039429",
          "exception": false,
          "start_time": "2022-03-14T17:22:25.968665",
          "status": "completed"
        },
        "tags": [],
        "id": "65b42c71"
      },
      "outputs": [],
      "source": [
        "# Remove Cabin Columns\n",
        "df_data.drop('Cabin', axis=1, inplace=True)"
      ]
    },
    {
      "cell_type": "markdown",
      "id": "eacfe3e9",
      "metadata": {
        "papermill": {
          "duration": 0.060687,
          "end_time": "2022-03-14T17:22:26.161140",
          "exception": false,
          "start_time": "2022-03-14T17:22:26.100453",
          "status": "completed"
        },
        "tags": [],
        "id": "eacfe3e9"
      },
      "source": [
        "<span style=\"font-family:cursive; color:black;font-size:16px\">Now, we don't have any Missing Data except Survived that belonging to test Data.</span>"
      ]
    },
    {
      "cell_type": "code",
      "execution_count": 15,
      "id": "c9928dac",
      "metadata": {
        "execution": {
          "iopub.execute_input": "2022-03-14T17:22:26.287604Z",
          "iopub.status.busy": "2022-03-14T17:22:26.286711Z",
          "iopub.status.idle": "2022-03-14T17:22:26.294451Z",
          "shell.execute_reply": "2022-03-14T17:22:26.295021Z",
          "shell.execute_reply.started": "2022-03-14T17:16:19.666319Z"
        },
        "papermill": {
          "duration": 0.072875,
          "end_time": "2022-03-14T17:22:26.295182",
          "exception": false,
          "start_time": "2022-03-14T17:22:26.222307",
          "status": "completed"
        },
        "tags": [],
        "colab": {
          "base_uri": "https://localhost:8080/"
        },
        "id": "c9928dac",
        "outputId": "c65e7cc8-fa02-47e6-a3d3-009b57e54900"
      },
      "outputs": [
        {
          "output_type": "execute_result",
          "data": {
            "text/plain": [
              "Age              0\n",
              "Embarked         0\n",
              "Fare             0\n",
              "Name             0\n",
              "Parch            0\n",
              "PassengerId      0\n",
              "Pclass           0\n",
              "Sex              0\n",
              "SibSp            0\n",
              "Survived       418\n",
              "Ticket           0\n",
              "dtype: int64"
            ]
          },
          "metadata": {},
          "execution_count": 15
        }
      ],
      "source": [
        "df_data.isnull().sum()"
      ]
    },
    {
      "cell_type": "markdown",
      "id": "bbb57d8e",
      "metadata": {
        "papermill": {
          "duration": 0.063987,
          "end_time": "2022-03-14T17:22:26.423220",
          "exception": false,
          "start_time": "2022-03-14T17:22:26.359233",
          "status": "completed"
        },
        "tags": [],
        "id": "bbb57d8e"
      },
      "source": [
        "<a id=\"1\"></a> <br>\n",
        "# 3. Feature Engineering"
      ]
    },
    {
      "cell_type": "markdown",
      "id": "44174dfc",
      "metadata": {
        "papermill": {
          "duration": 0.065941,
          "end_time": "2022-03-14T17:22:26.554733",
          "exception": false,
          "start_time": "2022-03-14T17:22:26.488792",
          "status": "completed"
        },
        "tags": [],
        "id": "44174dfc"
      },
      "source": [
        "<span style=\"font-family:cursive; color:black;font-size:16px\">We will start by creating fields related to the family unit. The first of these will come from the SibSp and Parch fields, which we can remove later. This will reflect the size of passengers' family. We will also enter a field to indicate whether the passenger is travelling alone or not.</span>"
      ]
    },
    {
      "cell_type": "code",
      "execution_count": 16,
      "id": "00f3becc",
      "metadata": {
        "execution": {
          "iopub.execute_input": "2022-03-14T17:22:26.683739Z",
          "iopub.status.busy": "2022-03-14T17:22:26.682862Z",
          "iopub.status.idle": "2022-03-14T17:22:26.691806Z",
          "shell.execute_reply": "2022-03-14T17:22:26.692411Z",
          "shell.execute_reply.started": "2022-03-14T17:16:23.888620Z"
        },
        "papermill": {
          "duration": 0.074643,
          "end_time": "2022-03-14T17:22:26.692579",
          "exception": false,
          "start_time": "2022-03-14T17:22:26.617936",
          "status": "completed"
        },
        "tags": [],
        "id": "00f3becc"
      },
      "outputs": [],
      "source": [
        "df_data['FamilySize'] = df_data['Parch'] + df_data['SibSp'] + 1\n",
        "df_data['Alone'] = 0\n",
        "df_data['Alone'] = df_data['FamilySize'].apply(lambda x: 0 if x>1 else 1)\n",
        "df_data.drop(['Parch','SibSp'],axis=1, inplace=True)"
      ]
    },
    {
      "cell_type": "code",
      "execution_count": 17,
      "id": "46ee6dee",
      "metadata": {
        "execution": {
          "iopub.execute_input": "2022-03-14T17:22:26.821176Z",
          "iopub.status.busy": "2022-03-14T17:22:26.820286Z",
          "iopub.status.idle": "2022-03-14T17:22:27.247861Z",
          "shell.execute_reply": "2022-03-14T17:22:27.248279Z",
          "shell.execute_reply.started": "2022-03-14T17:16:26.596366Z"
        },
        "papermill": {
          "duration": 0.492875,
          "end_time": "2022-03-14T17:22:27.248466",
          "exception": false,
          "start_time": "2022-03-14T17:22:26.755591",
          "status": "completed"
        },
        "tags": [],
        "colab": {
          "base_uri": "https://localhost:8080/",
          "height": 0
        },
        "id": "46ee6dee",
        "outputId": "14e2ec5a-c7d4-4d07-a335-84b5ece7ffcb"
      },
      "outputs": [
        {
          "output_type": "execute_result",
          "data": {
            "text/plain": [
              "<matplotlib.axes._subplots.AxesSubplot at 0x7f9b8eb3a450>"
            ]
          },
          "metadata": {},
          "execution_count": 17
        },
        {
          "output_type": "display_data",
          "data": {
            "text/plain": [
              "<Figure size 1584x576 with 1 Axes>"
            ],
            "image/png": "[encoded data removed]"
          },
          "metadata": {
            "needs_background": "light"
          }
        }
      ],
      "source": [
        "fig, axes = plt.subplots(figsize=(22,8))\n",
        "sns.countplot(x ='Survived',hue='FamilySize', data=df_data)"
      ]
    },
    {
      "cell_type": "markdown",
      "id": "b5533c72",
      "metadata": {
        "papermill": {
          "duration": 0.064312,
          "end_time": "2022-03-14T17:22:27.377607",
          "exception": false,
          "start_time": "2022-03-14T17:22:27.313295",
          "status": "completed"
        },
        "tags": [],
        "id": "b5533c72"
      },
      "source": [
        "<span style=\"font-family:cursive; color:black;font-size:16px\">I have decided to group Family Size into 4 different groups:</span>\n",
        "\n",
        "    Alone: for people travelling with no member of his/her family.\n",
        "    Small: for people travelling with 3 members of family\n",
        "    Medium: travelling with 4 or 5 members of family\n",
        "    Large: travelling with 6+ members of family"
      ]
    },
    {
      "cell_type": "code",
      "execution_count": 18,
      "id": "3526794c",
      "metadata": {
        "execution": {
          "iopub.execute_input": "2022-03-14T17:22:27.511085Z",
          "iopub.status.busy": "2022-03-14T17:22:27.510165Z",
          "iopub.status.idle": "2022-03-14T17:22:27.515866Z",
          "shell.execute_reply": "2022-03-14T17:22:27.516345Z",
          "shell.execute_reply.started": "2022-03-14T17:16:31.166287Z"
        },
        "papermill": {
          "duration": 0.07473,
          "end_time": "2022-03-14T17:22:27.516542",
          "exception": false,
          "start_time": "2022-03-14T17:22:27.441812",
          "status": "completed"
        },
        "tags": [],
        "id": "3526794c"
      },
      "outputs": [],
      "source": [
        "family_group = {1: 'Alone', 2: 'Small', 3: 'Small', 4: 'Small', 5: 'Medium', 6: 'Medium', 7: 'Large', 8: 'Large', 11: 'Large'}\n",
        "df_data['FamilyGroup'] = df_data['FamilySize'].map(family_group)"
      ]
    },
    {
      "cell_type": "code",
      "execution_count": 19,
      "id": "656b3db0",
      "metadata": {
        "execution": {
          "iopub.execute_input": "2022-03-14T17:22:27.646996Z",
          "iopub.status.busy": "2022-03-14T17:22:27.646105Z",
          "iopub.status.idle": "2022-03-14T17:22:27.891812Z",
          "shell.execute_reply": "2022-03-14T17:22:27.891321Z",
          "shell.execute_reply.started": "2022-03-14T17:16:34.267535Z"
        },
        "papermill": {
          "duration": 0.31171,
          "end_time": "2022-03-14T17:22:27.891946",
          "exception": false,
          "start_time": "2022-03-14T17:22:27.580236",
          "status": "completed"
        },
        "tags": [],
        "colab": {
          "base_uri": "https://localhost:8080/",
          "height": 0
        },
        "id": "656b3db0",
        "outputId": "8a463937-60f7-4808-bf5a-04ce0a8b28a7"
      },
      "outputs": [
        {
          "output_type": "execute_result",
          "data": {
            "text/plain": [
              "<matplotlib.axes._subplots.AxesSubplot at 0x7f9b8eaed1d0>"
            ]
          },
          "metadata": {},
          "execution_count": 19
        },
        {
          "output_type": "display_data",
          "data": {
            "text/plain": [
              "<Figure size 1584x576 with 1 Axes>"
            ],
            "image/png": "[encoded data removed]"
          },
          "metadata": {
            "needs_background": "light"
          }
        }
      ],
      "source": [
        "fig, axes = plt.subplots(figsize=(22,8))\n",
        "sns.countplot(x ='Survived',hue='FamilyGroup', data=df_data)"
      ]
    },
    {
      "cell_type": "markdown",
      "id": "2f913ed3",
      "metadata": {
        "papermill": {
          "duration": 0.064644,
          "end_time": "2022-03-14T17:22:28.021242",
          "exception": false,
          "start_time": "2022-03-14T17:22:27.956598",
          "status": "completed"
        },
        "tags": [],
        "id": "2f913ed3"
      },
      "source": [
        "<span style=\"font-family:cursive; color:black;font-size:16px\">Based on the chart above ,we can observe that lonely people tend to die. On the other hand, small families members are most likely to survive.</span>"
      ]
    },
    {
      "cell_type": "markdown",
      "id": "8a762f84",
      "metadata": {
        "papermill": {
          "duration": 0.0628,
          "end_time": "2022-03-14T17:22:28.150623",
          "exception": false,
          "start_time": "2022-03-14T17:22:28.087823",
          "status": "completed"
        },
        "tags": [],
        "id": "8a762f84"
      },
      "source": [
        "<span style=\"font-family:cursive; color:black;font-size:16px\">Now we are going to add a column that will be related to the Name field:</span>"
      ]
    },
    {
      "cell_type": "code",
      "execution_count": 20,
      "id": "1cbbe7c3",
      "metadata": {
        "execution": {
          "iopub.execute_input": "2022-03-14T17:22:28.284031Z",
          "iopub.status.busy": "2022-03-14T17:22:28.283109Z",
          "iopub.status.idle": "2022-03-14T17:22:28.311171Z",
          "shell.execute_reply": "2022-03-14T17:22:28.311642Z",
          "shell.execute_reply.started": "2022-03-14T17:16:38.969680Z"
        },
        "papermill": {
          "duration": 0.096288,
          "end_time": "2022-03-14T17:22:28.311791",
          "exception": false,
          "start_time": "2022-03-14T17:22:28.215503",
          "status": "completed"
        },
        "tags": [],
        "colab": {
          "base_uri": "https://localhost:8080/",
          "height": 0
        },
        "id": "1cbbe7c3",
        "outputId": "e38b7ba2-db0a-4bf1-cb70-925ef974f22f"
      },
      "outputs": [
        {
          "output_type": "execute_result",
          "data": {
            "text/plain": [
              "Title   Capt  Col  Countess  Don  Dona  Dr  Jonkheer  Lady  Major  Master  \\\n",
              "Sex                                                                         \n",
              "female     0    0         1    0     1   1         0     1      0       0   \n",
              "male       1    4         0    1     0   7         1     0      2      61   \n",
              "\n",
              "Title   Miss  Mlle  Mme   Mr  Mrs  Ms  Rev  Sir  \n",
              "Sex                                              \n",
              "female   260     2    1    0  197   2    0    0  \n",
              "male       0     0    0  757    0   0    8    1  "
            ],
            "text/html": [
              "\n",
              "  <div id=\"df-2e3749fa-f279-46db-a622-0c4093313610\">\n",
              "    <div class=\"colab-df-container\">\n",
              "      <div>\n",
              "<style scoped>\n",
              "    .dataframe tbody tr th:only-of-type {\n",
              "        vertical-align: middle;\n",
              "    }\n",
              "\n",
              "    .dataframe tbody tr th {\n",
              "        vertical-align: top;\n",
              "    }\n",
              "\n",
              "    .dataframe thead th {\n",
              "        text-align: right;\n",
              "    }\n",
              "</style>\n",
              "<table border=\"1\" class=\"dataframe\">\n",
              "  <thead>\n",
              "    <tr style=\"text-align: right;\">\n",
              "      <th>Title</th>\n",
              "      <th>Capt</th>\n",
              "      <th>Col</th>\n",
              "      <th>Countess</th>\n",
              "      <th>Don</th>\n",
              "      <th>Dona</th>\n",
              "      <th>Dr</th>\n",
              "      <th>Jonkheer</th>\n",
              "      <th>Lady</th>\n",
              "      <th>Major</th>\n",
              "      <th>Master</th>\n",
              "      <th>Miss</th>\n",
              "      <th>Mlle</th>\n",
              "      <th>Mme</th>\n",
              "      <th>Mr</th>\n",
              "      <th>Mrs</th>\n",
              "      <th>Ms</th>\n",
              "      <th>Rev</th>\n",
              "      <th>Sir</th>\n",
              "    </tr>\n",
              "    <tr>\n",
              "      <th>Sex</th>\n",
              "      <th></th>\n",
              "      <th></th>\n",
              "      <th></th>\n",
              "      <th></th>\n",
              "      <th></th>\n",
              "      <th></th>\n",
              "      <th></th>\n",
              "      <th></th>\n",
              "      <th></th>\n",
              "      <th></th>\n",
              "      <th></th>\n",
              "      <th></th>\n",
              "      <th></th>\n",
              "      <th></th>\n",
              "      <th></th>\n",
              "      <th></th>\n",
              "      <th></th>\n",
              "      <th></th>\n",
              "    </tr>\n",
              "  </thead>\n",
              "  <tbody>\n",
              "    <tr>\n",
              "      <th>female</th>\n",
              "      <td>0</td>\n",
              "      <td>0</td>\n",
              "      <td>1</td>\n",
              "      <td>0</td>\n",
              "      <td>1</td>\n",
              "      <td>1</td>\n",
              "      <td>0</td>\n",
              "      <td>1</td>\n",
              "      <td>0</td>\n",
              "      <td>0</td>\n",
              "      <td>260</td>\n",
              "      <td>2</td>\n",
              "      <td>1</td>\n",
              "      <td>0</td>\n",
              "      <td>197</td>\n",
              "      <td>2</td>\n",
              "      <td>0</td>\n",
              "      <td>0</td>\n",
              "    </tr>\n",
              "    <tr>\n",
              "      <th>male</th>\n",
              "      <td>1</td>\n",
              "      <td>4</td>\n",
              "      <td>0</td>\n",
              "      <td>1</td>\n",
              "      <td>0</td>\n",
              "      <td>7</td>\n",
              "      <td>1</td>\n",
              "      <td>0</td>\n",
              "      <td>2</td>\n",
              "      <td>61</td>\n",
              "      <td>0</td>\n",
              "      <td>0</td>\n",
              "      <td>0</td>\n",
              "      <td>757</td>\n",
              "      <td>0</td>\n",
              "      <td>0</td>\n",
              "      <td>8</td>\n",
              "      <td>1</td>\n",
              "    </tr>\n",
              "  </tbody>\n",
              "</table>\n",
              "</div>\n",
              "      <button class=\"colab-df-convert\" onclick=\"convertToInteractive('df-2e3749fa-f279-46db-a622-0c4093313610')\"\n",
              "              title=\"Convert this dataframe to an interactive table.\"\n",
              "              style=\"display:none;\">\n",
              "        \n",
              "  <svg xmlns=\"http://www.w3.org/2000/svg\" height=\"24px\"viewBox=\"0 0 24 24\"\n",
              "       width=\"24px\">\n",
              "    <path d=\"M0 0h24v24H0V0z\" fill=\"none\"/>\n",
              "    <path d=\"M18.56 5.44l.94 2.06.94-2.06 2.06-.94-2.06-.94-.94-2.06-.94 2.06-2.06.94zm-11 1L8.5 8.5l.94-2.06 2.06-.94-2.06-.94L8.5 2.5l-.94 2.06-2.06.94zm10 10l.94 2.06.94-2.06 2.06-.94-2.06-.94-.94-2.06-.94 2.06-2.06.94z\"/><path d=\"M17.41 7.96l-1.37-1.37c-.4-.4-.92-.59-1.43-.59-.52 0-1.04.2-1.43.59L10.3 9.45l-7.72 7.72c-.78.78-.78 2.05 0 2.83L4 21.41c.39.39.9.59 1.41.59.51 0 1.02-.2 1.41-.59l7.78-7.78 2.81-2.81c.8-.78.8-2.07 0-2.86zM5.41 20L4 18.59l7.72-7.72 1.47 1.35L5.41 20z\"/>\n",
              "  </svg>\n",
              "      </button>\n",
              "      \n",
              "  <style>\n",
              "    .colab-df-container {\n",
              "      display:flex;\n",
              "      flex-wrap:wrap;\n",
              "      gap: 12px;\n",
              "    }\n",
              "\n",
              "    .colab-df-convert {\n",
              "      background-color: #E8F0FE;\n",
              "      border: none;\n",
              "      border-radius: 50%;\n",
              "      cursor: pointer;\n",
              "      display: none;\n",
              "      fill: #1967D2;\n",
              "      height: 32px;\n",
              "      padding: 0 0 0 0;\n",
              "      width: 32px;\n",
              "    }\n",
              "\n",
              "    .colab-df-convert:hover {\n",
              "      background-color: #E2EBFA;\n",
              "      box-shadow: 0px 1px 2px rgba(60, 64, 67, 0.3), 0px 1px 3px 1px rgba(60, 64, 67, 0.15);\n",
              "      fill: #174EA6;\n",
              "    }\n",
              "\n",
              "    [theme=dark] .colab-df-convert {\n",
              "      background-color: #3B4455;\n",
              "      fill: #D2E3FC;\n",
              "    }\n",
              "\n",
              "    [theme=dark] .colab-df-convert:hover {\n",
              "      background-color: #434B5C;\n",
              "      box-shadow: 0px 1px 3px 1px rgba(0, 0, 0, 0.15);\n",
              "      filter: drop-shadow(0px 1px 2px rgba(0, 0, 0, 0.3));\n",
              "      fill: #FFFFFF;\n",
              "    }\n",
              "  </style>\n",
              "\n",
              "      <script>\n",
              "        const buttonEl =\n",
              "          document.querySelector('#df-2e3749fa-f279-46db-a622-0c4093313610 button.colab-df-convert');\n",
              "        buttonEl.style.display =\n",
              "          google.colab.kernel.accessAllowed ? 'block' : 'none';\n",
              "\n",
              "        async function convertToInteractive(key) {\n",
              "          const element = document.querySelector('#df-2e3749fa-f279-46db-a622-0c4093313610');\n",
              "          const dataTable =\n",
              "            await google.colab.kernel.invokeFunction('convertToInteractive',\n",
              "                                                     [key], {});\n",
              "          if (!dataTable) return;\n",
              "\n",
              "          const docLinkHtml = 'Like what you see? Visit the ' +\n",
              "            '<a target=\"_blank\" href=https://colab.research.google.com/notebooks/data_table.ipynb>data table notebook</a>'\n",
              "            + ' to learn more about interactive tables.';\n",
              "          element.innerHTML = '';\n",
              "          dataTable['output_type'] = 'display_data';\n",
              "          await google.colab.output.renderOutput(dataTable, element);\n",
              "          const docLink = document.createElement('div');\n",
              "          docLink.innerHTML = docLinkHtml;\n",
              "          element.appendChild(docLink);\n",
              "        }\n",
              "      </script>\n",
              "    </div>\n",
              "  </div>\n",
              "  "
            ]
          },
          "metadata": {},
          "execution_count": 20
        }
      ],
      "source": [
        "df_data['Title'] = df_data.Name.str.extract(' ([A-Za-z]+)\\.', expand=False)\n",
        "pd.crosstab(df_data['Title'], df_data['Sex']).transpose()\n"
      ]
    },
    {
      "cell_type": "code",
      "execution_count": 21,
      "id": "e6abb2ee",
      "metadata": {
        "execution": {
          "iopub.execute_input": "2022-03-14T17:22:28.448632Z",
          "iopub.status.busy": "2022-03-14T17:22:28.447700Z",
          "iopub.status.idle": "2022-03-14T17:22:28.472332Z",
          "shell.execute_reply": "2022-03-14T17:22:28.472812Z",
          "shell.execute_reply.started": "2022-03-14T17:16:41.702735Z"
        },
        "papermill": {
          "duration": 0.094318,
          "end_time": "2022-03-14T17:22:28.472979",
          "exception": false,
          "start_time": "2022-03-14T17:22:28.378661",
          "status": "completed"
        },
        "tags": [],
        "colab": {
          "base_uri": "https://localhost:8080/",
          "height": 0
        },
        "id": "e6abb2ee",
        "outputId": "93d2e4b2-68c5-44f3-fa0c-b6297ef39fb4"
      },
      "outputs": [
        {
          "output_type": "execute_result",
          "data": {
            "text/plain": [
              "Title   Master  Miss   Mr  Mrs  Rare\n",
              "Sex                                 \n",
              "female       0   264    0  198     4\n",
              "male        61     0  757    0    25"
            ],
            "text/html": [
              "\n",
              "  <div id=\"df-ab851897-7211-47e4-8adf-46f31249fb6c\">\n",
              "    <div class=\"colab-df-container\">\n",
              "      <div>\n",
              "<style scoped>\n",
              "    .dataframe tbody tr th:only-of-type {\n",
              "        vertical-align: middle;\n",
              "    }\n",
              "\n",
              "    .dataframe tbody tr th {\n",
              "        vertical-align: top;\n",
              "    }\n",
              "\n",
              "    .dataframe thead th {\n",
              "        text-align: right;\n",
              "    }\n",
              "</style>\n",
              "<table border=\"1\" class=\"dataframe\">\n",
              "  <thead>\n",
              "    <tr style=\"text-align: right;\">\n",
              "      <th>Title</th>\n",
              "      <th>Master</th>\n",
              "      <th>Miss</th>\n",
              "      <th>Mr</th>\n",
              "      <th>Mrs</th>\n",
              "      <th>Rare</th>\n",
              "    </tr>\n",
              "    <tr>\n",
              "      <th>Sex</th>\n",
              "      <th></th>\n",
              "      <th></th>\n",
              "      <th></th>\n",
              "      <th></th>\n",
              "      <th></th>\n",
              "    </tr>\n",
              "  </thead>\n",
              "  <tbody>\n",
              "    <tr>\n",
              "      <th>female</th>\n",
              "      <td>0</td>\n",
              "      <td>264</td>\n",
              "      <td>0</td>\n",
              "      <td>198</td>\n",
              "      <td>4</td>\n",
              "    </tr>\n",
              "    <tr>\n",
              "      <th>male</th>\n",
              "      <td>61</td>\n",
              "      <td>0</td>\n",
              "      <td>757</td>\n",
              "      <td>0</td>\n",
              "      <td>25</td>\n",
              "    </tr>\n",
              "  </tbody>\n",
              "</table>\n",
              "</div>\n",
              "      <button class=\"colab-df-convert\" onclick=\"convertToInteractive('df-ab851897-7211-47e4-8adf-46f31249fb6c')\"\n",
              "              title=\"Convert this dataframe to an interactive table.\"\n",
              "              style=\"display:none;\">\n",
              "        \n",
              "  <svg xmlns=\"http://www.w3.org/2000/svg\" height=\"24px\"viewBox=\"0 0 24 24\"\n",
              "       width=\"24px\">\n",
              "    <path d=\"M0 0h24v24H0V0z\" fill=\"none\"/>\n",
              "    <path d=\"M18.56 5.44l.94 2.06.94-2.06 2.06-.94-2.06-.94-.94-2.06-.94 2.06-2.06.94zm-11 1L8.5 8.5l.94-2.06 2.06-.94-2.06-.94L8.5 2.5l-.94 2.06-2.06.94zm10 10l.94 2.06.94-2.06 2.06-.94-2.06-.94-.94-2.06-.94 2.06-2.06.94z\"/><path d=\"M17.41 7.96l-1.37-1.37c-.4-.4-.92-.59-1.43-.59-.52 0-1.04.2-1.43.59L10.3 9.45l-7.72 7.72c-.78.78-.78 2.05 0 2.83L4 21.41c.39.39.9.59 1.41.59.51 0 1.02-.2 1.41-.59l7.78-7.78 2.81-2.81c.8-.78.8-2.07 0-2.86zM5.41 20L4 18.59l7.72-7.72 1.47 1.35L5.41 20z\"/>\n",
              "  </svg>\n",
              "      </button>\n",
              "      \n",
              "  <style>\n",
              "    .colab-df-container {\n",
              "      display:flex;\n",
              "      flex-wrap:wrap;\n",
              "      gap: 12px;\n",
              "    }\n",
              "\n",
              "    .colab-df-convert {\n",
              "      background-color: #E8F0FE;\n",
              "      border: none;\n",
              "      border-radius: 50%;\n",
              "      cursor: pointer;\n",
              "      display: none;\n",
              "      fill: #1967D2;\n",
              "      height: 32px;\n",
              "      padding: 0 0 0 0;\n",
              "      width: 32px;\n",
              "    }\n",
              "\n",
              "    .colab-df-convert:hover {\n",
              "      background-color: #E2EBFA;\n",
              "      box-shadow: 0px 1px 2px rgba(60, 64, 67, 0.3), 0px 1px 3px 1px rgba(60, 64, 67, 0.15);\n",
              "      fill: #174EA6;\n",
              "    }\n",
              "\n",
              "    [theme=dark] .colab-df-convert {\n",
              "      background-color: #3B4455;\n",
              "      fill: #D2E3FC;\n",
              "    }\n",
              "\n",
              "    [theme=dark] .colab-df-convert:hover {\n",
              "      background-color: #434B5C;\n",
              "      box-shadow: 0px 1px 3px 1px rgba(0, 0, 0, 0.15);\n",
              "      filter: drop-shadow(0px 1px 2px rgba(0, 0, 0, 0.3));\n",
              "      fill: #FFFFFF;\n",
              "    }\n",
              "  </style>\n",
              "\n",
              "      <script>\n",
              "        const buttonEl =\n",
              "          document.querySelector('#df-ab851897-7211-47e4-8adf-46f31249fb6c button.colab-df-convert');\n",
              "        buttonEl.style.display =\n",
              "          google.colab.kernel.accessAllowed ? 'block' : 'none';\n",
              "\n",
              "        async function convertToInteractive(key) {\n",
              "          const element = document.querySelector('#df-ab851897-7211-47e4-8adf-46f31249fb6c');\n",
              "          const dataTable =\n",
              "            await google.colab.kernel.invokeFunction('convertToInteractive',\n",
              "                                                     [key], {});\n",
              "          if (!dataTable) return;\n",
              "\n",
              "          const docLinkHtml = 'Like what you see? Visit the ' +\n",
              "            '<a target=\"_blank\" href=https://colab.research.google.com/notebooks/data_table.ipynb>data table notebook</a>'\n",
              "            + ' to learn more about interactive tables.';\n",
              "          element.innerHTML = '';\n",
              "          dataTable['output_type'] = 'display_data';\n",
              "          await google.colab.output.renderOutput(dataTable, element);\n",
              "          const docLink = document.createElement('div');\n",
              "          docLink.innerHTML = docLinkHtml;\n",
              "          element.appendChild(docLink);\n",
              "        }\n",
              "      </script>\n",
              "    </div>\n",
              "  </div>\n",
              "  "
            ]
          },
          "metadata": {},
          "execution_count": 21
        }
      ],
      "source": [
        "df_data['Title'] = df_data['Title'].replace(['Lady', 'Countess','Capt', 'Col','Don', 'Dr', 'Major', 'Rev', 'Sir', 'Jonkheer', 'Dona'], 'Rare')\n",
        "df_data['Title'] = df_data['Title'].replace('Mlle', 'Miss')\n",
        "df_data['Title'] = df_data['Title'].replace('Ms', 'Miss')\n",
        "df_data['Title'] = df_data['Title'].replace('Mme', 'Mrs')\n",
        "pd.crosstab(df_data['Title'], df_data['Sex']).transpose()"
      ]
    },
    {
      "cell_type": "markdown",
      "id": "7bec4f1a",
      "metadata": {
        "papermill": {
          "duration": 0.067347,
          "end_time": "2022-03-14T17:22:28.611379",
          "exception": false,
          "start_time": "2022-03-14T17:22:28.544032",
          "status": "completed"
        },
        "tags": [],
        "id": "7bec4f1a"
      },
      "source": [
        "<span style=\"font-family:cursive; color:black;font-size:16px\">In order to binning continuous features we are going to use 13 quantile base bins for Fare column and 10 bins for Age column:</span>"
      ]
    },
    {
      "cell_type": "code",
      "execution_count": 22,
      "id": "0b4a2f46",
      "metadata": {
        "execution": {
          "iopub.execute_input": "2022-03-14T17:22:28.754445Z",
          "iopub.status.busy": "2022-03-14T17:22:28.753606Z",
          "iopub.status.idle": "2022-03-14T17:22:28.764587Z",
          "shell.execute_reply": "2022-03-14T17:22:28.765312Z",
          "shell.execute_reply.started": "2022-03-14T17:16:44.582205Z"
        },
        "papermill": {
          "duration": 0.087163,
          "end_time": "2022-03-14T17:22:28.765575",
          "exception": false,
          "start_time": "2022-03-14T17:22:28.678412",
          "status": "completed"
        },
        "tags": [],
        "id": "0b4a2f46"
      },
      "outputs": [],
      "source": [
        "names = ['1', '2', '3', '4', '5', '6', '7','8','9','10','11','12','13']\n",
        "df_data['Fare'] = pd.qcut(df_data['Fare'], 13, labels = names)\n",
        "df_data.Fare = pd.to_numeric(df_data.Fare, errors = 'coerce')"
      ]
    },
    {
      "cell_type": "code",
      "execution_count": 23,
      "id": "caa0fb24",
      "metadata": {
        "execution": {
          "iopub.execute_input": "2022-03-14T17:22:28.929867Z",
          "iopub.status.busy": "2022-03-14T17:22:28.928951Z",
          "iopub.status.idle": "2022-03-14T17:22:28.935382Z",
          "shell.execute_reply": "2022-03-14T17:22:28.935951Z",
          "shell.execute_reply.started": "2022-03-14T17:16:47.378439Z"
        },
        "papermill": {
          "duration": 0.085048,
          "end_time": "2022-03-14T17:22:28.936112",
          "exception": false,
          "start_time": "2022-03-14T17:22:28.851064",
          "status": "completed"
        },
        "tags": [],
        "id": "caa0fb24"
      },
      "outputs": [],
      "source": [
        "names = ['1','2','3','4','5','6','7','8','9','10']\n",
        "df_data['Age'] = pd.qcut(df_data['Age'], 10, labels = names)"
      ]
    },
    {
      "cell_type": "markdown",
      "id": "d6967115",
      "metadata": {
        "papermill": {
          "duration": 0.078852,
          "end_time": "2022-03-14T17:22:29.091229",
          "exception": false,
          "start_time": "2022-03-14T17:22:29.012377",
          "status": "completed"
        },
        "tags": [],
        "id": "d6967115"
      },
      "source": [
        "<span style=\"font-family:cursive; color:black;font-size:16px\">Remove Name,PassengerId and Ticket columns:</span>"
      ]
    },
    {
      "cell_type": "code",
      "execution_count": 24,
      "id": "aa463e3a",
      "metadata": {
        "execution": {
          "iopub.execute_input": "2022-03-14T17:22:29.234528Z",
          "iopub.status.busy": "2022-03-14T17:22:29.233615Z",
          "iopub.status.idle": "2022-03-14T17:22:29.238890Z",
          "shell.execute_reply": "2022-03-14T17:22:29.239488Z",
          "shell.execute_reply.started": "2022-03-14T17:16:50.150688Z"
        },
        "papermill": {
          "duration": 0.075396,
          "end_time": "2022-03-14T17:22:29.239656",
          "exception": false,
          "start_time": "2022-03-14T17:22:29.164260",
          "status": "completed"
        },
        "tags": [],
        "id": "aa463e3a"
      },
      "outputs": [],
      "source": [
        "Remove_List = ['Name','PassengerId','Ticket']\n",
        "df_data.drop(Remove_List, axis=1, inplace=True)"
      ]
    },
    {
      "cell_type": "markdown",
      "id": "a99f2d8d",
      "metadata": {
        "papermill": {
          "duration": 0.067256,
          "end_time": "2022-03-14T17:22:29.375789",
          "exception": false,
          "start_time": "2022-03-14T17:22:29.308533",
          "status": "completed"
        },
        "tags": [],
        "id": "a99f2d8d"
      },
      "source": [
        "<a id=\"1\"></a> <br>\n",
        "# 4. Feature Transformation"
      ]
    },
    {
      "cell_type": "markdown",
      "id": "43d248d3",
      "metadata": {
        "papermill": {
          "duration": 0.068736,
          "end_time": "2022-03-14T17:22:29.513691",
          "exception": false,
          "start_time": "2022-03-14T17:22:29.444955",
          "status": "completed"
        },
        "tags": [],
        "id": "43d248d3"
      },
      "source": [
        "<span style=\"font-family:cursive; color:black;font-size:16px\">Using LabelEncoder, we are going to convert non-numerical features to numerical type. LabelEncoder basically labels the classes from 0 to n. This process is necessary for models to learn from those features.</span>"
      ]
    },
    {
      "cell_type": "code",
      "execution_count": 25,
      "id": "c1a5079d",
      "metadata": {
        "execution": {
          "iopub.execute_input": "2022-03-14T17:22:29.653917Z",
          "iopub.status.busy": "2022-03-14T17:22:29.653024Z",
          "iopub.status.idle": "2022-03-14T17:22:29.663245Z",
          "shell.execute_reply": "2022-03-14T17:22:29.662530Z",
          "shell.execute_reply.started": "2022-03-14T17:16:53.383181Z"
        },
        "papermill": {
          "duration": 0.080371,
          "end_time": "2022-03-14T17:22:29.663407",
          "exception": false,
          "start_time": "2022-03-14T17:22:29.583036",
          "status": "completed"
        },
        "tags": [],
        "id": "c1a5079d"
      },
      "outputs": [],
      "source": [
        "n_col = [col for col in df_data.columns if df_data[col].dtype=='object']\n",
        "n_col.append('Age')\n",
        "for feature in n_col:\n",
        "    df_data[feature] = LabelEncoder().fit_transform(df_data[feature])"
      ]
    },
    {
      "cell_type": "code",
      "execution_count": 26,
      "id": "02e300f5",
      "metadata": {
        "execution": {
          "iopub.execute_input": "2022-03-14T17:22:29.802007Z",
          "iopub.status.busy": "2022-03-14T17:22:29.801400Z",
          "iopub.status.idle": "2022-03-14T17:22:29.809703Z",
          "shell.execute_reply": "2022-03-14T17:22:29.810196Z",
          "shell.execute_reply.started": "2022-03-14T17:16:56.604176Z"
        },
        "papermill": {
          "duration": 0.081466,
          "end_time": "2022-03-14T17:22:29.810347",
          "exception": false,
          "start_time": "2022-03-14T17:22:29.728881",
          "status": "completed"
        },
        "tags": [],
        "colab": {
          "base_uri": "https://localhost:8080/",
          "height": 0
        },
        "id": "02e300f5",
        "outputId": "f435dc18-86cd-4736-d2af-a5657dde0dbf"
      },
      "outputs": [
        {
          "output_type": "execute_result",
          "data": {
            "text/plain": [
              "   Age  Embarked  Fare  Pclass  Sex  Survived  FamilySize  Alone  FamilyGroup  \\\n",
              "0    3         2     1       3    1       0.0           2      0            3   \n",
              "1    8         0    12       1    0       1.0           2      0            3   \n",
              "2    5         2     4       3    0       1.0           1      1            0   \n",
              "3    8         2    11       1    0       1.0           2      0            3   \n",
              "4    8         2     4       3    1       0.0           1      1            0   \n",
              "\n",
              "   Title  \n",
              "0      2  \n",
              "1      3  \n",
              "2      1  \n",
              "3      3  \n",
              "4      2  "
            ],
            "text/html": [
              "\n",
              "  <div id=\"df-1f2ddbad-473b-42f3-957e-54eff22d7a2e\">\n",
              "    <div class=\"colab-df-container\">\n",
              "      <div>\n",
              "<style scoped>\n",
              "    .dataframe tbody tr th:only-of-type {\n",
              "        vertical-align: middle;\n",
              "    }\n",
              "\n",
              "    .dataframe tbody tr th {\n",
              "        vertical-align: top;\n",
              "    }\n",
              "\n",
              "    .dataframe thead th {\n",
              "        text-align: right;\n",
              "    }\n",
              "</style>\n",
              "<table border=\"1\" class=\"dataframe\">\n",
              "  <thead>\n",
              "    <tr style=\"text-align: right;\">\n",
              "      <th></th>\n",
              "      <th>Age</th>\n",
              "      <th>Embarked</th>\n",
              "      <th>Fare</th>\n",
              "      <th>Pclass</th>\n",
              "      <th>Sex</th>\n",
              "      <th>Survived</th>\n",
              "      <th>FamilySize</th>\n",
              "      <th>Alone</th>\n",
              "      <th>FamilyGroup</th>\n",
              "      <th>Title</th>\n",
              "    </tr>\n",
              "  </thead>\n",
              "  <tbody>\n",
              "    <tr>\n",
              "      <th>0</th>\n",
              "      <td>3</td>\n",
              "      <td>2</td>\n",
              "      <td>1</td>\n",
              "      <td>3</td>\n",
              "      <td>1</td>\n",
              "      <td>0.0</td>\n",
              "      <td>2</td>\n",
              "      <td>0</td>\n",
              "      <td>3</td>\n",
              "      <td>2</td>\n",
              "    </tr>\n",
              "    <tr>\n",
              "      <th>1</th>\n",
              "      <td>8</td>\n",
              "      <td>0</td>\n",
              "      <td>12</td>\n",
              "      <td>1</td>\n",
              "      <td>0</td>\n",
              "      <td>1.0</td>\n",
              "      <td>2</td>\n",
              "      <td>0</td>\n",
              "      <td>3</td>\n",
              "      <td>3</td>\n",
              "    </tr>\n",
              "    <tr>\n",
              "      <th>2</th>\n",
              "      <td>5</td>\n",
              "      <td>2</td>\n",
              "      <td>4</td>\n",
              "      <td>3</td>\n",
              "      <td>0</td>\n",
              "      <td>1.0</td>\n",
              "      <td>1</td>\n",
              "      <td>1</td>\n",
              "      <td>0</td>\n",
              "      <td>1</td>\n",
              "    </tr>\n",
              "    <tr>\n",
              "      <th>3</th>\n",
              "      <td>8</td>\n",
              "      <td>2</td>\n",
              "      <td>11</td>\n",
              "      <td>1</td>\n",
              "      <td>0</td>\n",
              "      <td>1.0</td>\n",
              "      <td>2</td>\n",
              "      <td>0</td>\n",
              "      <td>3</td>\n",
              "      <td>3</td>\n",
              "    </tr>\n",
              "    <tr>\n",
              "      <th>4</th>\n",
              "      <td>8</td>\n",
              "      <td>2</td>\n",
              "      <td>4</td>\n",
              "      <td>3</td>\n",
              "      <td>1</td>\n",
              "      <td>0.0</td>\n",
              "      <td>1</td>\n",
              "      <td>1</td>\n",
              "      <td>0</td>\n",
              "      <td>2</td>\n",
              "    </tr>\n",
              "  </tbody>\n",
              "</table>\n",
              "</div>\n",
              "      <button class=\"colab-df-convert\" onclick=\"convertToInteractive('df-1f2ddbad-473b-42f3-957e-54eff22d7a2e')\"\n",
              "              title=\"Convert this dataframe to an interactive table.\"\n",
              "              style=\"display:none;\">\n",
              "        \n",
              "  <svg xmlns=\"http://www.w3.org/2000/svg\" height=\"24px\"viewBox=\"0 0 24 24\"\n",
              "       width=\"24px\">\n",
              "    <path d=\"M0 0h24v24H0V0z\" fill=\"none\"/>\n",
              "    <path d=\"M18.56 5.44l.94 2.06.94-2.06 2.06-.94-2.06-.94-.94-2.06-.94 2.06-2.06.94zm-11 1L8.5 8.5l.94-2.06 2.06-.94-2.06-.94L8.5 2.5l-.94 2.06-2.06.94zm10 10l.94 2.06.94-2.06 2.06-.94-2.06-.94-.94-2.06-.94 2.06-2.06.94z\"/><path d=\"M17.41 7.96l-1.37-1.37c-.4-.4-.92-.59-1.43-.59-.52 0-1.04.2-1.43.59L10.3 9.45l-7.72 7.72c-.78.78-.78 2.05 0 2.83L4 21.41c.39.39.9.59 1.41.59.51 0 1.02-.2 1.41-.59l7.78-7.78 2.81-2.81c.8-.78.8-2.07 0-2.86zM5.41 20L4 18.59l7.72-7.72 1.47 1.35L5.41 20z\"/>\n",
              "  </svg>\n",
              "      </button>\n",
              "      \n",
              "  <style>\n",
              "    .colab-df-container {\n",
              "      display:flex;\n",
              "      flex-wrap:wrap;\n",
              "      gap: 12px;\n",
              "    }\n",
              "\n",
              "    .colab-df-convert {\n",
              "      background-color: #E8F0FE;\n",
              "      border: none;\n",
              "      border-radius: 50%;\n",
              "      cursor: pointer;\n",
              "      display: none;\n",
              "      fill: #1967D2;\n",
              "      height: 32px;\n",
              "      padding: 0 0 0 0;\n",
              "      width: 32px;\n",
              "    }\n",
              "\n",
              "    .colab-df-convert:hover {\n",
              "      background-color: #E2EBFA;\n",
              "      box-shadow: 0px 1px 2px rgba(60, 64, 67, 0.3), 0px 1px 3px 1px rgba(60, 64, 67, 0.15);\n",
              "      fill: #174EA6;\n",
              "    }\n",
              "\n",
              "    [theme=dark] .colab-df-convert {\n",
              "      background-color: #3B4455;\n",
              "      fill: #D2E3FC;\n",
              "    }\n",
              "\n",
              "    [theme=dark] .colab-df-convert:hover {\n",
              "      background-color: #434B5C;\n",
              "      box-shadow: 0px 1px 3px 1px rgba(0, 0, 0, 0.15);\n",
              "      filter: drop-shadow(0px 1px 2px rgba(0, 0, 0, 0.3));\n",
              "      fill: #FFFFFF;\n",
              "    }\n",
              "  </style>\n",
              "\n",
              "      <script>\n",
              "        const buttonEl =\n",
              "          document.querySelector('#df-1f2ddbad-473b-42f3-957e-54eff22d7a2e button.colab-df-convert');\n",
              "        buttonEl.style.display =\n",
              "          google.colab.kernel.accessAllowed ? 'block' : 'none';\n",
              "\n",
              "        async function convertToInteractive(key) {\n",
              "          const element = document.querySelector('#df-1f2ddbad-473b-42f3-957e-54eff22d7a2e');\n",
              "          const dataTable =\n",
              "            await google.colab.kernel.invokeFunction('convertToInteractive',\n",
              "                                                     [key], {});\n",
              "          if (!dataTable) return;\n",
              "\n",
              "          const docLinkHtml = 'Like what you see? Visit the ' +\n",
              "            '<a target=\"_blank\" href=https://colab.research.google.com/notebooks/data_table.ipynb>data table notebook</a>'\n",
              "            + ' to learn more about interactive tables.';\n",
              "          element.innerHTML = '';\n",
              "          dataTable['output_type'] = 'display_data';\n",
              "          await google.colab.output.renderOutput(dataTable, element);\n",
              "          const docLink = document.createElement('div');\n",
              "          docLink.innerHTML = docLinkHtml;\n",
              "          element.appendChild(docLink);\n",
              "        }\n",
              "      </script>\n",
              "    </div>\n",
              "  </div>\n",
              "  "
            ]
          },
          "metadata": {},
          "execution_count": 26
        }
      ],
      "source": [
        "df_data.head()"
      ]
    },
    {
      "cell_type": "code",
      "execution_count": 27,
      "id": "1d991882",
      "metadata": {
        "execution": {
          "iopub.execute_input": "2022-03-14T17:22:29.947636Z",
          "iopub.status.busy": "2022-03-14T17:22:29.947085Z",
          "iopub.status.idle": "2022-03-14T17:22:29.953762Z",
          "shell.execute_reply": "2022-03-14T17:22:29.953308Z",
          "shell.execute_reply.started": "2022-03-14T17:17:00.065163Z"
        },
        "papermill": {
          "duration": 0.075464,
          "end_time": "2022-03-14T17:22:29.953884",
          "exception": false,
          "start_time": "2022-03-14T17:22:29.878420",
          "status": "completed"
        },
        "tags": [],
        "colab": {
          "base_uri": "https://localhost:8080/"
        },
        "id": "1d991882",
        "outputId": "62879677-6c08-4308-8551-bf1154d4136b"
      },
      "outputs": [
        {
          "output_type": "execute_result",
          "data": {
            "text/plain": [
              "Age              int64\n",
              "Embarked         int64\n",
              "Fare             int64\n",
              "Pclass           int64\n",
              "Sex              int64\n",
              "Survived       float64\n",
              "FamilySize       int64\n",
              "Alone            int64\n",
              "FamilyGroup      int64\n",
              "Title            int64\n",
              "dtype: object"
            ]
          },
          "metadata": {},
          "execution_count": 27
        }
      ],
      "source": [
        "df_data.dtypes"
      ]
    },
    {
      "cell_type": "markdown",
      "id": "5e65f8e8",
      "metadata": {
        "papermill": {
          "duration": 0.066545,
          "end_time": "2022-03-14T17:22:30.089467",
          "exception": false,
          "start_time": "2022-03-14T17:22:30.022922",
          "status": "completed"
        },
        "tags": [],
        "id": "5e65f8e8"
      },
      "source": [
        "<span style=\"font-family:cursive; color:black;font-size:16px\">To finish with, we are going to one hot encoded non-ordinal features. Those features are Embarked, Title, FamilyGroup and PClass. Age and Fare as ordinal features are not converted.</span>"
      ]
    },
    {
      "cell_type": "code",
      "execution_count": 28,
      "id": "10b219ea",
      "metadata": {
        "execution": {
          "iopub.execute_input": "2022-03-14T17:22:30.231894Z",
          "iopub.status.busy": "2022-03-14T17:22:30.231231Z",
          "iopub.status.idle": "2022-03-14T17:22:30.237303Z",
          "shell.execute_reply": "2022-03-14T17:22:30.237832Z",
          "shell.execute_reply.started": "2022-03-14T17:17:03.086681Z"
        },
        "papermill": {
          "duration": 0.080505,
          "end_time": "2022-03-14T17:22:30.237975",
          "exception": false,
          "start_time": "2022-03-14T17:22:30.157470",
          "status": "completed"
        },
        "tags": [],
        "id": "10b219ea"
      },
      "outputs": [],
      "source": [
        "cat_features = ['Embarked', 'Pclass', 'Title', 'FamilyGroup']\n",
        "for feature in cat_features:\n",
        "    one_hot = pd.get_dummies(df_data[feature],prefix=feature)\n",
        "    df_data = pd.merge(left=df_data,right=one_hot,left_index=True,right_index=True)"
      ]
    },
    {
      "cell_type": "code",
      "execution_count": 29,
      "id": "5349718d",
      "metadata": {
        "execution": {
          "iopub.execute_input": "2022-03-14T17:22:30.375645Z",
          "iopub.status.busy": "2022-03-14T17:22:30.375040Z",
          "iopub.status.idle": "2022-03-14T17:22:30.379651Z",
          "shell.execute_reply": "2022-03-14T17:22:30.380244Z",
          "shell.execute_reply.started": "2022-03-14T17:17:05.993931Z"
        },
        "papermill": {
          "duration": 0.074841,
          "end_time": "2022-03-14T17:22:30.380410",
          "exception": false,
          "start_time": "2022-03-14T17:22:30.305569",
          "status": "completed"
        },
        "tags": [],
        "id": "5349718d"
      },
      "outputs": [],
      "source": [
        "df_data.drop(columns=['Embarked','Pclass','Title','FamilyGroup'],inplace=True)"
      ]
    },
    {
      "cell_type": "code",
      "execution_count": 30,
      "id": "d26bd7eb",
      "metadata": {
        "execution": {
          "iopub.execute_input": "2022-03-14T17:22:30.518606Z",
          "iopub.status.busy": "2022-03-14T17:22:30.518074Z",
          "iopub.status.idle": "2022-03-14T17:22:30.535903Z",
          "shell.execute_reply": "2022-03-14T17:22:30.536501Z",
          "shell.execute_reply.started": "2022-03-14T17:17:08.641183Z"
        },
        "papermill": {
          "duration": 0.088837,
          "end_time": "2022-03-14T17:22:30.536666",
          "exception": false,
          "start_time": "2022-03-14T17:22:30.447829",
          "status": "completed"
        },
        "tags": [],
        "colab": {
          "base_uri": "https://localhost:8080/",
          "height": 0
        },
        "id": "d26bd7eb",
        "outputId": "82a3bfe3-1a2d-48a8-b4e9-f238c6def51e"
      },
      "outputs": [
        {
          "output_type": "execute_result",
          "data": {
            "text/plain": [
              "   Age  Fare  Sex  Survived  FamilySize  Alone  Embarked_0  Embarked_1  \\\n",
              "0    3     1    1       0.0           2      0           0           0   \n",
              "1    8    12    0       1.0           2      0           1           0   \n",
              "2    5     4    0       1.0           1      1           0           0   \n",
              "3    8    11    0       1.0           2      0           0           0   \n",
              "4    8     4    1       0.0           1      1           0           0   \n",
              "\n",
              "   Embarked_2  Pclass_1  ...  Pclass_3  Title_0  Title_1  Title_2  Title_3  \\\n",
              "0           1         0  ...         1        0        0        1        0   \n",
              "1           0         1  ...         0        0        0        0        1   \n",
              "2           1         0  ...         1        0        1        0        0   \n",
              "3           1         1  ...         0        0        0        0        1   \n",
              "4           1         0  ...         1        0        0        1        0   \n",
              "\n",
              "   Title_4  FamilyGroup_0  FamilyGroup_1  FamilyGroup_2  FamilyGroup_3  \n",
              "0        0              0              0              0              1  \n",
              "1        0              0              0              0              1  \n",
              "2        0              1              0              0              0  \n",
              "3        0              0              0              0              1  \n",
              "4        0              1              0              0              0  \n",
              "\n",
              "[5 rows x 21 columns]"
            ],
            "text/html": [
              "\n",
              "  <div id=\"df-6884edb8-ba77-4842-8ef7-0395b2435947\">\n",
              "    <div class=\"colab-df-container\">\n",
              "      <div>\n",
              "<style scoped>\n",
              "    .dataframe tbody tr th:only-of-type {\n",
              "        vertical-align: middle;\n",
              "    }\n",
              "\n",
              "    .dataframe tbody tr th {\n",
              "        vertical-align: top;\n",
              "    }\n",
              "\n",
              "    .dataframe thead th {\n",
              "        text-align: right;\n",
              "    }\n",
              "</style>\n",
              "<table border=\"1\" class=\"dataframe\">\n",
              "  <thead>\n",
              "    <tr style=\"text-align: right;\">\n",
              "      <th></th>\n",
              "      <th>Age</th>\n",
              "      <th>Fare</th>\n",
              "      <th>Sex</th>\n",
              "      <th>Survived</th>\n",
              "      <th>FamilySize</th>\n",
              "      <th>Alone</th>\n",
              "      <th>Embarked_0</th>\n",
              "      <th>Embarked_1</th>\n",
              "      <th>Embarked_2</th>\n",
              "      <th>Pclass_1</th>\n",
              "      <th>...</th>\n",
              "      <th>Pclass_3</th>\n",
              "      <th>Title_0</th>\n",
              "      <th>Title_1</th>\n",
              "      <th>Title_2</th>\n",
              "      <th>Title_3</th>\n",
              "      <th>Title_4</th>\n",
              "      <th>FamilyGroup_0</th>\n",
              "      <th>FamilyGroup_1</th>\n",
              "      <th>FamilyGroup_2</th>\n",
              "      <th>FamilyGroup_3</th>\n",
              "    </tr>\n",
              "  </thead>\n",
              "  <tbody>\n",
              "    <tr>\n",
              "      <th>0</th>\n",
              "      <td>3</td>\n",
              "      <td>1</td>\n",
              "      <td>1</td>\n",
              "      <td>0.0</td>\n",
              "      <td>2</td>\n",
              "      <td>0</td>\n",
              "      <td>0</td>\n",
              "      <td>0</td>\n",
              "      <td>1</td>\n",
              "      <td>0</td>\n",
              "      <td>...</td>\n",
              "      <td>1</td>\n",
              "      <td>0</td>\n",
              "      <td>0</td>\n",
              "      <td>1</td>\n",
              "      <td>0</td>\n",
              "      <td>0</td>\n",
              "      <td>0</td>\n",
              "      <td>0</td>\n",
              "      <td>0</td>\n",
              "      <td>1</td>\n",
              "    </tr>\n",
              "    <tr>\n",
              "      <th>1</th>\n",
              "      <td>8</td>\n",
              "      <td>12</td>\n",
              "      <td>0</td>\n",
              "      <td>1.0</td>\n",
              "      <td>2</td>\n",
              "      <td>0</td>\n",
              "      <td>1</td>\n",
              "      <td>0</td>\n",
              "      <td>0</td>\n",
              "      <td>1</td>\n",
              "      <td>...</td>\n",
              "      <td>0</td>\n",
              "      <td>0</td>\n",
              "      <td>0</td>\n",
              "      <td>0</td>\n",
              "      <td>1</td>\n",
              "      <td>0</td>\n",
              "      <td>0</td>\n",
              "      <td>0</td>\n",
              "      <td>0</td>\n",
              "      <td>1</td>\n",
              "    </tr>\n",
              "    <tr>\n",
              "      <th>2</th>\n",
              "      <td>5</td>\n",
              "      <td>4</td>\n",
              "      <td>0</td>\n",
              "      <td>1.0</td>\n",
              "      <td>1</td>\n",
              "      <td>1</td>\n",
              "      <td>0</td>\n",
              "      <td>0</td>\n",
              "      <td>1</td>\n",
              "      <td>0</td>\n",
              "      <td>...</td>\n",
              "      <td>1</td>\n",
              "      <td>0</td>\n",
              "      <td>1</td>\n",
              "      <td>0</td>\n",
              "      <td>0</td>\n",
              "      <td>0</td>\n",
              "      <td>1</td>\n",
              "      <td>0</td>\n",
              "      <td>0</td>\n",
              "      <td>0</td>\n",
              "    </tr>\n",
              "    <tr>\n",
              "      <th>3</th>\n",
              "      <td>8</td>\n",
              "      <td>11</td>\n",
              "      <td>0</td>\n",
              "      <td>1.0</td>\n",
              "      <td>2</td>\n",
              "      <td>0</td>\n",
              "      <td>0</td>\n",
              "      <td>0</td>\n",
              "      <td>1</td>\n",
              "      <td>1</td>\n",
              "      <td>...</td>\n",
              "      <td>0</td>\n",
              "      <td>0</td>\n",
              "      <td>0</td>\n",
              "      <td>0</td>\n",
              "      <td>1</td>\n",
              "      <td>0</td>\n",
              "      <td>0</td>\n",
              "      <td>0</td>\n",
              "      <td>0</td>\n",
              "      <td>1</td>\n",
              "    </tr>\n",
              "    <tr>\n",
              "      <th>4</th>\n",
              "      <td>8</td>\n",
              "      <td>4</td>\n",
              "      <td>1</td>\n",
              "      <td>0.0</td>\n",
              "      <td>1</td>\n",
              "      <td>1</td>\n",
              "      <td>0</td>\n",
              "      <td>0</td>\n",
              "      <td>1</td>\n",
              "      <td>0</td>\n",
              "      <td>...</td>\n",
              "      <td>1</td>\n",
              "      <td>0</td>\n",
              "      <td>0</td>\n",
              "      <td>1</td>\n",
              "      <td>0</td>\n",
              "      <td>0</td>\n",
              "      <td>1</td>\n",
              "      <td>0</td>\n",
              "      <td>0</td>\n",
              "      <td>0</td>\n",
              "    </tr>\n",
              "  </tbody>\n",
              "</table>\n",
              "<p>5 rows × 21 columns</p>\n",
              "</div>\n",
              "      <button class=\"colab-df-convert\" onclick=\"convertToInteractive('df-6884edb8-ba77-4842-8ef7-0395b2435947')\"\n",
              "              title=\"Convert this dataframe to an interactive table.\"\n",
              "              style=\"display:none;\">\n",
              "        \n",
              "  <svg xmlns=\"http://www.w3.org/2000/svg\" height=\"24px\"viewBox=\"0 0 24 24\"\n",
              "       width=\"24px\">\n",
              "    <path d=\"M0 0h24v24H0V0z\" fill=\"none\"/>\n",
              "    <path d=\"M18.56 5.44l.94 2.06.94-2.06 2.06-.94-2.06-.94-.94-2.06-.94 2.06-2.06.94zm-11 1L8.5 8.5l.94-2.06 2.06-.94-2.06-.94L8.5 2.5l-.94 2.06-2.06.94zm10 10l.94 2.06.94-2.06 2.06-.94-2.06-.94-.94-2.06-.94 2.06-2.06.94z\"/><path d=\"M17.41 7.96l-1.37-1.37c-.4-.4-.92-.59-1.43-.59-.52 0-1.04.2-1.43.59L10.3 9.45l-7.72 7.72c-.78.78-.78 2.05 0 2.83L4 21.41c.39.39.9.59 1.41.59.51 0 1.02-.2 1.41-.59l7.78-7.78 2.81-2.81c.8-.78.8-2.07 0-2.86zM5.41 20L4 18.59l7.72-7.72 1.47 1.35L5.41 20z\"/>\n",
              "  </svg>\n",
              "      </button>\n",
              "      \n",
              "  <style>\n",
              "    .colab-df-container {\n",
              "      display:flex;\n",
              "      flex-wrap:wrap;\n",
              "      gap: 12px;\n",
              "    }\n",
              "\n",
              "    .colab-df-convert {\n",
              "      background-color: #E8F0FE;\n",
              "      border: none;\n",
              "      border-radius: 50%;\n",
              "      cursor: pointer;\n",
              "      display: none;\n",
              "      fill: #1967D2;\n",
              "      height: 32px;\n",
              "      padding: 0 0 0 0;\n",
              "      width: 32px;\n",
              "    }\n",
              "\n",
              "    .colab-df-convert:hover {\n",
              "      background-color: #E2EBFA;\n",
              "      box-shadow: 0px 1px 2px rgba(60, 64, 67, 0.3), 0px 1px 3px 1px rgba(60, 64, 67, 0.15);\n",
              "      fill: #174EA6;\n",
              "    }\n",
              "\n",
              "    [theme=dark] .colab-df-convert {\n",
              "      background-color: #3B4455;\n",
              "      fill: #D2E3FC;\n",
              "    }\n",
              "\n",
              "    [theme=dark] .colab-df-convert:hover {\n",
              "      background-color: #434B5C;\n",
              "      box-shadow: 0px 1px 3px 1px rgba(0, 0, 0, 0.15);\n",
              "      filter: drop-shadow(0px 1px 2px rgba(0, 0, 0, 0.3));\n",
              "      fill: #FFFFFF;\n",
              "    }\n",
              "  </style>\n",
              "\n",
              "      <script>\n",
              "        const buttonEl =\n",
              "          document.querySelector('#df-6884edb8-ba77-4842-8ef7-0395b2435947 button.colab-df-convert');\n",
              "        buttonEl.style.display =\n",
              "          google.colab.kernel.accessAllowed ? 'block' : 'none';\n",
              "\n",
              "        async function convertToInteractive(key) {\n",
              "          const element = document.querySelector('#df-6884edb8-ba77-4842-8ef7-0395b2435947');\n",
              "          const dataTable =\n",
              "            await google.colab.kernel.invokeFunction('convertToInteractive',\n",
              "                                                     [key], {});\n",
              "          if (!dataTable) return;\n",
              "\n",
              "          const docLinkHtml = 'Like what you see? Visit the ' +\n",
              "            '<a target=\"_blank\" href=https://colab.research.google.com/notebooks/data_table.ipynb>data table notebook</a>'\n",
              "            + ' to learn more about interactive tables.';\n",
              "          element.innerHTML = '';\n",
              "          dataTable['output_type'] = 'display_data';\n",
              "          await google.colab.output.renderOutput(dataTable, element);\n",
              "          const docLink = document.createElement('div');\n",
              "          docLink.innerHTML = docLinkHtml;\n",
              "          element.appendChild(docLink);\n",
              "        }\n",
              "      </script>\n",
              "    </div>\n",
              "  </div>\n",
              "  "
            ]
          },
          "metadata": {},
          "execution_count": 30
        }
      ],
      "source": [
        "df_data.head()"
      ]
    },
    {
      "cell_type": "markdown",
      "id": "51d52ed6",
      "metadata": {
        "papermill": {
          "duration": 0.067972,
          "end_time": "2022-03-14T17:22:30.672304",
          "exception": false,
          "start_time": "2022-03-14T17:22:30.604332",
          "status": "completed"
        },
        "tags": [],
        "id": "51d52ed6"
      },
      "source": [
        "<a id=\"1\"></a> <br>\n",
        "# 5. Modeling"
      ]
    },
    {
      "cell_type": "markdown",
      "id": "95a5abe1",
      "metadata": {
        "papermill": {
          "duration": 0.068296,
          "end_time": "2022-03-14T17:22:30.807275",
          "exception": false,
          "start_time": "2022-03-14T17:22:30.738979",
          "status": "completed"
        },
        "tags": [],
        "id": "95a5abe1"
      },
      "source": [
        "<span style=\"font-family:cursive; color:black;font-size:16px\">For the modeling part we will compare 7 known algorithms, and proceed to evaluate their average accuracy by a stratified kfold cross validation procedure:</span>"
      ]
    },
    {
      "cell_type": "markdown",
      "id": "778599b2",
      "metadata": {
        "papermill": {
          "duration": 0.066663,
          "end_time": "2022-03-14T17:22:30.944055",
          "exception": false,
          "start_time": "2022-03-14T17:22:30.877392",
          "status": "completed"
        },
        "tags": [],
        "id": "778599b2"
      },
      "source": [
        "1: SVC<br>\n",
        "2: Decision Tree<br>\n",
        "3: Random Forest<br>\n",
        "4: Extra Trees<br>\n",
        "5: Gradient Boosting<br>\n",
        "6: Multiple layer perceprton (neural network)<br>\n",
        "7: KNN<br>"
      ]
    },
    {
      "cell_type": "code",
      "execution_count": 31,
      "id": "a3d83f5c",
      "metadata": {
        "execution": {
          "iopub.execute_input": "2022-03-14T17:22:31.083609Z",
          "iopub.status.busy": "2022-03-14T17:22:31.083018Z",
          "iopub.status.idle": "2022-03-14T17:22:31.089029Z",
          "shell.execute_reply": "2022-03-14T17:22:31.089498Z",
          "shell.execute_reply.started": "2022-03-14T17:17:13.698124Z"
        },
        "papermill": {
          "duration": 0.077048,
          "end_time": "2022-03-14T17:22:31.089656",
          "exception": false,
          "start_time": "2022-03-14T17:22:31.012608",
          "status": "completed"
        },
        "tags": [],
        "id": "a3d83f5c"
      },
      "outputs": [],
      "source": [
        "# ٍExtract Train and Test Data from df_data\n",
        "df_train = df_data[df_data.Survived.isnull()==False]\n",
        "df_test = df_data[df_data.Survived.isnull()==True]\n",
        "df_test= df_test.drop('Survived',axis=1)"
      ]
    },
    {
      "cell_type": "code",
      "execution_count": 32,
      "id": "7bad3e6e",
      "metadata": {
        "execution": {
          "iopub.execute_input": "2022-03-14T17:22:31.228403Z",
          "iopub.status.busy": "2022-03-14T17:22:31.227840Z",
          "iopub.status.idle": "2022-03-14T17:22:31.231968Z",
          "shell.execute_reply": "2022-03-14T17:22:31.232513Z",
          "shell.execute_reply.started": "2022-03-14T17:17:16.534040Z"
        },
        "papermill": {
          "duration": 0.075139,
          "end_time": "2022-03-14T17:22:31.232661",
          "exception": false,
          "start_time": "2022-03-14T17:22:31.157522",
          "status": "completed"
        },
        "tags": [],
        "id": "7bad3e6e"
      },
      "outputs": [],
      "source": [
        "X = df_train.drop('Survived',axis=1)\n",
        "y = df_train['Survived']"
      ]
    },
    {
      "cell_type": "code",
      "execution_count": 33,
      "id": "a329fbb1",
      "metadata": {
        "execution": {
          "iopub.execute_input": "2022-03-14T17:22:31.372310Z",
          "iopub.status.busy": "2022-03-14T17:22:31.371774Z",
          "iopub.status.idle": "2022-03-14T17:22:31.377273Z",
          "shell.execute_reply": "2022-03-14T17:22:31.377835Z",
          "shell.execute_reply.started": "2022-03-14T17:17:21.466444Z"
        },
        "papermill": {
          "duration": 0.077337,
          "end_time": "2022-03-14T17:22:31.377974",
          "exception": false,
          "start_time": "2022-03-14T17:22:31.300637",
          "status": "completed"
        },
        "tags": [],
        "id": "a329fbb1"
      },
      "outputs": [],
      "source": [
        "# Define classifiers:\n",
        "kfold = StratifiedKFold(n_splits=10)\n",
        "random_state = 42\n",
        "classifiers = []\n",
        "classifiers.append(SVC(random_state=random_state))\n",
        "classifiers.append(DecisionTreeClassifier(max_depth=4,random_state=random_state))\n",
        "classifiers.append(RandomForestClassifier(n_estimators=5,random_state=random_state))\n",
        "classifiers.append(ExtraTreesClassifier(random_state=random_state))\n",
        "classifiers.append(GradientBoostingClassifier(random_state=random_state))\n",
        "classifiers.append(MLPClassifier(random_state=random_state))\n",
        "classifiers.append(KNeighborsClassifier())"
      ]
    },
    {
      "cell_type": "code",
      "execution_count": 34,
      "id": "aedcccee",
      "metadata": {
        "execution": {
          "iopub.execute_input": "2022-03-14T17:22:31.519427Z",
          "iopub.status.busy": "2022-03-14T17:22:31.518790Z",
          "iopub.status.idle": "2022-03-14T17:22:36.652707Z",
          "shell.execute_reply": "2022-03-14T17:22:36.652049Z",
          "shell.execute_reply.started": "2022-03-14T17:17:25.506181Z"
        },
        "papermill": {
          "duration": 5.207219,
          "end_time": "2022-03-14T17:22:36.652836",
          "exception": false,
          "start_time": "2022-03-14T17:22:31.445617",
          "status": "completed"
        },
        "tags": [],
        "id": "aedcccee"
      },
      "outputs": [],
      "source": [
        "# cross_val_score\n",
        "cv_results = []\n",
        "for classifier in classifiers:\n",
        "    cv_results.append(cross_val_score(classifier, X, y, scoring = \"accuracy\", cv = kfold, n_jobs=4))"
      ]
    },
    {
      "cell_type": "code",
      "execution_count": 35,
      "id": "1c210a4f",
      "metadata": {
        "execution": {
          "iopub.execute_input": "2022-03-14T17:22:36.801697Z",
          "iopub.status.busy": "2022-03-14T17:22:36.800958Z",
          "iopub.status.idle": "2022-03-14T17:22:36.802538Z",
          "shell.execute_reply": "2022-03-14T17:22:36.803075Z",
          "shell.execute_reply.started": "2022-03-14T17:17:30.794864Z"
        },
        "papermill": {
          "duration": 0.079974,
          "end_time": "2022-03-14T17:22:36.803233",
          "exception": false,
          "start_time": "2022-03-14T17:22:36.723259",
          "status": "completed"
        },
        "tags": [],
        "id": "1c210a4f"
      },
      "outputs": [],
      "source": [
        "# cross_val_score Mean\n",
        "cv_means = []\n",
        "for cv_result in cv_results:\n",
        "    cv_means.append(cv_result.mean())"
      ]
    },
    {
      "cell_type": "code",
      "execution_count": 36,
      "id": "a50240e1",
      "metadata": {
        "execution": {
          "iopub.execute_input": "2022-03-14T17:22:36.946258Z",
          "iopub.status.busy": "2022-03-14T17:22:36.945721Z",
          "iopub.status.idle": "2022-03-14T17:22:36.951783Z",
          "shell.execute_reply": "2022-03-14T17:22:36.952301Z",
          "shell.execute_reply.started": "2022-03-14T17:17:33.923653Z"
        },
        "papermill": {
          "duration": 0.079052,
          "end_time": "2022-03-14T17:22:36.952473",
          "exception": false,
          "start_time": "2022-03-14T17:22:36.873421",
          "status": "completed"
        },
        "tags": [],
        "id": "a50240e1"
      },
      "outputs": [],
      "source": [
        "# Create DataFram from Algorithms and CrossValMeans parameter\n",
        "cv_res = pd.DataFrame({\"Algorithm\":[\"SVC\",\"DecisionTree\",\n",
        "\"RandomForest\",\"ExtraTrees\",\"GradientBoosting\",\"MultipleLayerPerceptron\",\"KNeighboors\"],\"CrossValMeans\":cv_means})\n",
        "cv_res = cv_res.sort_values(by='CrossValMeans',ascending = False)"
      ]
    },
    {
      "cell_type": "code",
      "execution_count": 37,
      "id": "a159ab85",
      "metadata": {
        "execution": {
          "iopub.execute_input": "2022-03-14T17:22:37.095065Z",
          "iopub.status.busy": "2022-03-14T17:22:37.094560Z",
          "iopub.status.idle": "2022-03-14T17:22:37.102903Z",
          "shell.execute_reply": "2022-03-14T17:22:37.103465Z",
          "shell.execute_reply.started": "2022-03-14T17:17:36.833512Z"
        },
        "papermill": {
          "duration": 0.08029,
          "end_time": "2022-03-14T17:22:37.103625",
          "exception": false,
          "start_time": "2022-03-14T17:22:37.023335",
          "status": "completed"
        },
        "tags": [],
        "colab": {
          "base_uri": "https://localhost:8080/",
          "height": 269
        },
        "id": "a159ab85",
        "outputId": "25e3b6c7-ca35-43e4-c2b8-17c84fd8d6b4"
      },
      "outputs": [
        {
          "output_type": "execute_result",
          "data": {
            "text/plain": [
              "                 Algorithm  CrossValMeans\n",
              "0                      SVC       0.829401\n",
              "5  MultipleLayerPerceptron       0.822709\n",
              "4         GradientBoosting       0.821623\n",
              "1             DecisionTree       0.806941\n",
              "6              KNeighboors       0.796941\n",
              "3               ExtraTrees       0.794644\n",
              "2             RandomForest       0.787878"
            ],
            "text/html": [
              "\n",
              "  <div id=\"df-93fdac29-d04a-42ee-8616-048cdae0bdac\">\n",
              "    <div class=\"colab-df-container\">\n",
              "      <div>\n",
              "<style scoped>\n",
              "    .dataframe tbody tr th:only-of-type {\n",
              "        vertical-align: middle;\n",
              "    }\n",
              "\n",
              "    .dataframe tbody tr th {\n",
              "        vertical-align: top;\n",
              "    }\n",
              "\n",
              "    .dataframe thead th {\n",
              "        text-align: right;\n",
              "    }\n",
              "</style>\n",
              "<table border=\"1\" class=\"dataframe\">\n",
              "  <thead>\n",
              "    <tr style=\"text-align: right;\">\n",
              "      <th></th>\n",
              "      <th>Algorithm</th>\n",
              "      <th>CrossValMeans</th>\n",
              "    </tr>\n",
              "  </thead>\n",
              "  <tbody>\n",
              "    <tr>\n",
              "      <th>0</th>\n",
              "      <td>SVC</td>\n",
              "      <td>0.829401</td>\n",
              "    </tr>\n",
              "    <tr>\n",
              "      <th>5</th>\n",
              "      <td>MultipleLayerPerceptron</td>\n",
              "      <td>0.822709</td>\n",
              "    </tr>\n",
              "    <tr>\n",
              "      <th>4</th>\n",
              "      <td>GradientBoosting</td>\n",
              "      <td>0.821623</td>\n",
              "    </tr>\n",
              "    <tr>\n",
              "      <th>1</th>\n",
              "      <td>DecisionTree</td>\n",
              "      <td>0.806941</td>\n",
              "    </tr>\n",
              "    <tr>\n",
              "      <th>6</th>\n",
              "      <td>KNeighboors</td>\n",
              "      <td>0.796941</td>\n",
              "    </tr>\n",
              "    <tr>\n",
              "      <th>3</th>\n",
              "      <td>ExtraTrees</td>\n",
              "      <td>0.794644</td>\n",
              "    </tr>\n",
              "    <tr>\n",
              "      <th>2</th>\n",
              "      <td>RandomForest</td>\n",
              "      <td>0.787878</td>\n",
              "    </tr>\n",
              "  </tbody>\n",
              "</table>\n",
              "</div>\n",
              "      <button class=\"colab-df-convert\" onclick=\"convertToInteractive('df-93fdac29-d04a-42ee-8616-048cdae0bdac')\"\n",
              "              title=\"Convert this dataframe to an interactive table.\"\n",
              "              style=\"display:none;\">\n",
              "        \n",
              "  <svg xmlns=\"http://www.w3.org/2000/svg\" height=\"24px\"viewBox=\"0 0 24 24\"\n",
              "       width=\"24px\">\n",
              "    <path d=\"M0 0h24v24H0V0z\" fill=\"none\"/>\n",
              "    <path d=\"M18.56 5.44l.94 2.06.94-2.06 2.06-.94-2.06-.94-.94-2.06-.94 2.06-2.06.94zm-11 1L8.5 8.5l.94-2.06 2.06-.94-2.06-.94L8.5 2.5l-.94 2.06-2.06.94zm10 10l.94 2.06.94-2.06 2.06-.94-2.06-.94-.94-2.06-.94 2.06-2.06.94z\"/><path d=\"M17.41 7.96l-1.37-1.37c-.4-.4-.92-.59-1.43-.59-.52 0-1.04.2-1.43.59L10.3 9.45l-7.72 7.72c-.78.78-.78 2.05 0 2.83L4 21.41c.39.39.9.59 1.41.59.51 0 1.02-.2 1.41-.59l7.78-7.78 2.81-2.81c.8-.78.8-2.07 0-2.86zM5.41 20L4 18.59l7.72-7.72 1.47 1.35L5.41 20z\"/>\n",
              "  </svg>\n",
              "      </button>\n",
              "      \n",
              "  <style>\n",
              "    .colab-df-container {\n",
              "      display:flex;\n",
              "      flex-wrap:wrap;\n",
              "      gap: 12px;\n",
              "    }\n",
              "\n",
              "    .colab-df-convert {\n",
              "      background-color: #E8F0FE;\n",
              "      border: none;\n",
              "      border-radius: 50%;\n",
              "      cursor: pointer;\n",
              "      display: none;\n",
              "      fill: #1967D2;\n",
              "      height: 32px;\n",
              "      padding: 0 0 0 0;\n",
              "      width: 32px;\n",
              "    }\n",
              "\n",
              "    .colab-df-convert:hover {\n",
              "      background-color: #E2EBFA;\n",
              "      box-shadow: 0px 1px 2px rgba(60, 64, 67, 0.3), 0px 1px 3px 1px rgba(60, 64, 67, 0.15);\n",
              "      fill: #174EA6;\n",
              "    }\n",
              "\n",
              "    [theme=dark] .colab-df-convert {\n",
              "      background-color: #3B4455;\n",
              "      fill: #D2E3FC;\n",
              "    }\n",
              "\n",
              "    [theme=dark] .colab-df-convert:hover {\n",
              "      background-color: #434B5C;\n",
              "      box-shadow: 0px 1px 3px 1px rgba(0, 0, 0, 0.15);\n",
              "      filter: drop-shadow(0px 1px 2px rgba(0, 0, 0, 0.3));\n",
              "      fill: #FFFFFF;\n",
              "    }\n",
              "  </style>\n",
              "\n",
              "      <script>\n",
              "        const buttonEl =\n",
              "          document.querySelector('#df-93fdac29-d04a-42ee-8616-048cdae0bdac button.colab-df-convert');\n",
              "        buttonEl.style.display =\n",
              "          google.colab.kernel.accessAllowed ? 'block' : 'none';\n",
              "\n",
              "        async function convertToInteractive(key) {\n",
              "          const element = document.querySelector('#df-93fdac29-d04a-42ee-8616-048cdae0bdac');\n",
              "          const dataTable =\n",
              "            await google.colab.kernel.invokeFunction('convertToInteractive',\n",
              "                                                     [key], {});\n",
              "          if (!dataTable) return;\n",
              "\n",
              "          const docLinkHtml = 'Like what you see? Visit the ' +\n",
              "            '<a target=\"_blank\" href=https://colab.research.google.com/notebooks/data_table.ipynb>data table notebook</a>'\n",
              "            + ' to learn more about interactive tables.';\n",
              "          element.innerHTML = '';\n",
              "          dataTable['output_type'] = 'display_data';\n",
              "          await google.colab.output.renderOutput(dataTable, element);\n",
              "          const docLink = document.createElement('div');\n",
              "          docLink.innerHTML = docLinkHtml;\n",
              "          element.appendChild(docLink);\n",
              "        }\n",
              "      </script>\n",
              "    </div>\n",
              "  </div>\n",
              "  "
            ]
          },
          "metadata": {},
          "execution_count": 37
        }
      ],
      "source": [
        "cv_res"
      ]
    },
    {
      "cell_type": "code",
      "execution_count": 38,
      "id": "451b5b61",
      "metadata": {
        "execution": {
          "iopub.execute_input": "2022-03-14T17:22:37.245908Z",
          "iopub.status.busy": "2022-03-14T17:22:37.245366Z",
          "iopub.status.idle": "2022-03-14T17:22:37.250166Z",
          "shell.execute_reply": "2022-03-14T17:22:37.250727Z",
          "shell.execute_reply.started": "2022-03-14T17:17:41.400912Z"
        },
        "papermill": {
          "duration": 0.077344,
          "end_time": "2022-03-14T17:22:37.250881",
          "exception": false,
          "start_time": "2022-03-14T17:22:37.173537",
          "status": "completed"
        },
        "tags": [],
        "id": "451b5b61"
      },
      "outputs": [],
      "source": [
        "# SPlitting train dataset\n",
        "X_train,X_test,y_train,y_test = train_test_split(X,y,test_size = 0.2,random_state = 42)"
      ]
    },
    {
      "cell_type": "code",
      "execution_count": 39,
      "id": "a71c6210",
      "metadata": {
        "execution": {
          "iopub.execute_input": "2022-03-14T17:22:37.397683Z",
          "iopub.status.busy": "2022-03-14T17:22:37.397061Z",
          "iopub.status.idle": "2022-03-14T17:22:37.405653Z",
          "shell.execute_reply": "2022-03-14T17:22:37.405155Z",
          "shell.execute_reply.started": "2022-03-14T17:18:48.117935Z"
        },
        "papermill": {
          "duration": 0.08223,
          "end_time": "2022-03-14T17:22:37.405779",
          "exception": false,
          "start_time": "2022-03-14T17:22:37.323549",
          "status": "completed"
        },
        "tags": [],
        "id": "a71c6210"
      },
      "outputs": [],
      "source": [
        "# Classifiers\n",
        "pipeline_SVC = Pipeline([('SVC_classifier',SVC(random_state=random_state))])\n",
        "pipeline_DTC = Pipeline([('DTC_classifier',DecisionTreeClassifier(max_depth=4,random_state=random_state))])\n",
        "pipeline_RF = Pipeline([('RF_classifier',RandomForestClassifier(n_estimators=5,random_state=random_state))])\n",
        "pipeline_ET = Pipeline([('ET_classifier',ExtraTreesClassifier(random_state=random_state))])\n",
        "pipeline_GB = Pipeline([('GB_classifier',GradientBoostingClassifier(random_state=random_state))])\n",
        "pipeline_MLP = Pipeline([('MLP_classifier',MLPClassifier(max_iter=10000,random_state=random_state))])\n",
        "pipeline_KNN = Pipeline([('KNN_classifier',KNeighborsClassifier())])\n",
        "\n",
        "pipelines = [pipeline_SVC,pipeline_DTC,pipeline_RF,pipeline_ET,pipeline_GB,pipeline_MLP,pipeline_KNN]\n",
        "pipe_dict = {0:'SVC',1:'DecisionTree',2:'RandomForest',3:'ExtraTrees',4:'GradientBoosting',\n",
        "             5:'MLP',6:'KNeighbors'}"
      ]
    },
    {
      "cell_type": "code",
      "execution_count": 40,
      "id": "4ec4b07d",
      "metadata": {
        "execution": {
          "iopub.execute_input": "2022-03-14T17:22:37.557274Z",
          "iopub.status.busy": "2022-03-14T17:22:37.556664Z",
          "iopub.status.idle": "2022-03-14T17:22:42.825757Z",
          "shell.execute_reply": "2022-03-14T17:22:42.827071Z",
          "shell.execute_reply.started": "2022-03-14T17:18:51.439442Z"
        },
        "papermill": {
          "duration": 5.349533,
          "end_time": "2022-03-14T17:22:42.827382",
          "exception": false,
          "start_time": "2022-03-14T17:22:37.477849",
          "status": "completed"
        },
        "tags": [],
        "id": "4ec4b07d"
      },
      "outputs": [],
      "source": [
        "# Fit Model\n",
        "for pipe in pipelines:\n",
        "    pipe.fit(X_train,y_train)"
      ]
    },
    {
      "cell_type": "code",
      "execution_count": 41,
      "id": "f3a20ee5",
      "metadata": {
        "execution": {
          "iopub.execute_input": "2022-03-14T17:22:43.037158Z",
          "iopub.status.busy": "2022-03-14T17:22:43.033042Z",
          "iopub.status.idle": "2022-03-14T17:22:43.092970Z",
          "shell.execute_reply": "2022-03-14T17:22:43.094005Z",
          "shell.execute_reply.started": "2022-03-14T17:18:58.931215Z"
        },
        "papermill": {
          "duration": 0.136448,
          "end_time": "2022-03-14T17:22:43.094273",
          "exception": false,
          "start_time": "2022-03-14T17:22:42.957825",
          "status": "completed"
        },
        "tags": [],
        "colab": {
          "base_uri": "https://localhost:8080/"
        },
        "id": "f3a20ee5",
        "outputId": "115b1111-05b8-4d39-98bf-d3ff5b3ac004"
      },
      "outputs": [
        {
          "output_type": "stream",
          "name": "stdout",
          "text": [
            "SVC Test Accuracy : 0.8268156424581006\n",
            "\n",
            "DecisionTree Test Accuracy : 0.8156424581005587\n",
            "\n",
            "RandomForest Test Accuracy : 0.7988826815642458\n",
            "\n",
            "ExtraTrees Test Accuracy : 0.8156424581005587\n",
            "\n",
            "GradientBoosting Test Accuracy : 0.8435754189944135\n",
            "\n",
            "MLP Test Accuracy : 0.8324022346368715\n",
            "\n",
            "KNeighbors Test Accuracy : 0.8044692737430168\n",
            "\n"
          ]
        }
      ],
      "source": [
        "# Calculate Test Accuracy\n",
        "for i,model in enumerate(pipelines):\n",
        "    print(\"{} Test Accuracy : {}\\n\".format(pipe_dict[i],model.score(X_test,y_test)))"
      ]
    },
    {
      "cell_type": "code",
      "execution_count": 42,
      "id": "eef090b0",
      "metadata": {
        "execution": {
          "iopub.execute_input": "2022-03-14T17:22:43.291906Z",
          "iopub.status.busy": "2022-03-14T17:22:43.291271Z",
          "iopub.status.idle": "2022-03-14T17:22:43.353466Z",
          "shell.execute_reply": "2022-03-14T17:22:43.354293Z",
          "shell.execute_reply.started": "2022-03-14T17:19:01.772356Z"
        },
        "papermill": {
          "duration": 0.141337,
          "end_time": "2022-03-14T17:22:43.354566",
          "exception": false,
          "start_time": "2022-03-14T17:22:43.213229",
          "status": "completed"
        },
        "tags": [],
        "colab": {
          "base_uri": "https://localhost:8080/"
        },
        "id": "eef090b0",
        "outputId": "a81a3034-b38a-44ba-dbba-90d09c1a2659"
      },
      "outputs": [
        {
          "output_type": "stream",
          "name": "stdout",
          "text": [
            "SVC : mean_absolute_error : 0.17318435754189945\n",
            "\n",
            "DecisionTree : mean_absolute_error : 0.18435754189944134\n",
            "\n",
            "RandomForest : mean_absolute_error : 0.2011173184357542\n",
            "\n",
            "ExtraTrees : mean_absolute_error : 0.18435754189944134\n",
            "\n",
            "GradientBoosting : mean_absolute_error : 0.1564245810055866\n",
            "\n",
            "MLP : mean_absolute_error : 0.16759776536312848\n",
            "\n",
            "KNeighbors : mean_absolute_error : 0.19553072625698323\n",
            "\n"
          ]
        }
      ],
      "source": [
        "# Calculate mean_absolute_error\n",
        "for i,model in enumerate(pipelines):\n",
        "    y_pred = model.predict(X_test)\n",
        "    print(\"{} : mean_absolute_error : {}\\n\".format(pipe_dict[i],mean_absolute_error(y_test,y_pred)))"
      ]
    },
    {
      "cell_type": "code",
      "execution_count": 43,
      "id": "8ff17b69",
      "metadata": {
        "execution": {
          "iopub.execute_input": "2022-03-14T17:22:43.550974Z",
          "iopub.status.busy": "2022-03-14T17:22:43.549672Z",
          "iopub.status.idle": "2022-03-14T17:22:43.793233Z",
          "shell.execute_reply": "2022-03-14T17:22:43.792582Z",
          "shell.execute_reply.started": "2022-03-14T17:19:06.863354Z"
        },
        "papermill": {
          "duration": 0.320485,
          "end_time": "2022-03-14T17:22:43.793377",
          "exception": false,
          "start_time": "2022-03-14T17:22:43.472892",
          "status": "completed"
        },
        "tags": [],
        "colab": {
          "base_uri": "https://localhost:8080/",
          "height": 353
        },
        "id": "8ff17b69",
        "outputId": "2b41c040-a1cc-477d-b595-48e7ea3ff948"
      },
      "outputs": [
        {
          "output_type": "stream",
          "name": "stderr",
          "text": [
            "/usr/local/lib/python3.7/dist-packages/sklearn/utils/deprecation.py:87: FutureWarning: Function plot_confusion_matrix is deprecated; Function `plot_confusion_matrix` is deprecated in 1.0 and will be removed in 1.2. Use one of the class methods: ConfusionMatrixDisplay.from_predictions or ConfusionMatrixDisplay.from_estimator.\n",
            "  warnings.warn(msg, category=FutureWarning)\n"
          ]
        },
        {
          "output_type": "execute_result",
          "data": {
            "text/plain": [
              "<sklearn.metrics._plot.confusion_matrix.ConfusionMatrixDisplay at 0x7f9b915cd310>"
            ]
          },
          "metadata": {},
          "execution_count": 43
        },
        {
          "output_type": "display_data",
          "data": {
            "text/plain": [
              "<Figure size 432x288 with 2 Axes>"
            ],
            "image/png": "[encoded data removed]"
          },
          "metadata": {
            "needs_background": "light"
          }
        }
      ],
      "source": [
        "plot_confusion_matrix(pipeline_SVC,X_test,y_test)"
      ]
    },
    {
      "cell_type": "code",
      "execution_count": 44,
      "id": "3e5541c2",
      "metadata": {
        "execution": {
          "iopub.execute_input": "2022-03-14T17:22:43.948607Z",
          "iopub.status.busy": "2022-03-14T17:22:43.947970Z",
          "iopub.status.idle": "2022-03-14T17:22:43.962171Z",
          "shell.execute_reply": "2022-03-14T17:22:43.961563Z",
          "shell.execute_reply.started": "2022-03-14T17:19:17.594581Z"
        },
        "papermill": {
          "duration": 0.094586,
          "end_time": "2022-03-14T17:22:43.962320",
          "exception": false,
          "start_time": "2022-03-14T17:22:43.867734",
          "status": "completed"
        },
        "tags": [],
        "id": "3e5541c2"
      },
      "outputs": [],
      "source": [
        "y_pred_test_SVC = pipeline_SVC.predict(df_test)"
      ]
    },
    {
      "cell_type": "code",
      "execution_count": 45,
      "id": "a0089035",
      "metadata": {
        "execution": {
          "iopub.execute_input": "2022-03-14T17:22:44.119605Z",
          "iopub.status.busy": "2022-03-14T17:22:44.118975Z",
          "iopub.status.idle": "2022-03-14T17:22:44.122060Z",
          "shell.execute_reply": "2022-03-14T17:22:44.122619Z",
          "shell.execute_reply.started": "2022-03-14T17:19:20.614930Z"
        },
        "papermill": {
          "duration": 0.086028,
          "end_time": "2022-03-14T17:22:44.122756",
          "exception": false,
          "start_time": "2022-03-14T17:22:44.036728",
          "status": "completed"
        },
        "tags": [],
        "colab": {
          "base_uri": "https://localhost:8080/"
        },
        "id": "a0089035",
        "outputId": "489c52e4-a983-4c1a-e818-383212addf98"
      },
      "outputs": [
        {
          "output_type": "execute_result",
          "data": {
            "text/plain": [
              "array([0., 0., 0., 0., 1., 0., 1., 0., 1., 0., 0., 0., 1., 0., 1., 1., 0.,\n",
              "       0., 1., 1., 0., 0., 1., 0., 1., 0., 1., 0., 0., 0., 0., 0., 1., 1.,\n",
              "       0., 0., 1., 1., 0., 0., 0., 0., 0., 1., 1., 0., 0., 0., 1., 1., 0.,\n",
              "       0., 1., 1., 0., 0., 0., 0., 0., 1., 0., 0., 0., 1., 0., 1., 1., 0.,\n",
              "       0., 0., 1., 0., 1., 0., 1., 0., 0., 1., 0., 1., 1., 0., 0., 0., 0.,\n",
              "       0., 1., 1., 1., 1., 1., 0., 1., 0., 0., 0., 1., 0., 1., 0., 1., 0.,\n",
              "       0., 0., 1., 0., 0., 0., 0., 0., 0., 1., 1., 1., 1., 0., 0., 1., 0.,\n",
              "       1., 1., 0., 1., 0., 0., 1., 0., 1., 0., 0., 0., 0., 0., 0., 0., 0.,\n",
              "       0., 0., 1., 0., 0., 1., 0., 0., 0., 0., 0., 0., 0., 0., 1., 0., 0.,\n",
              "       1., 0., 0., 1., 1., 0., 1., 1., 1., 1., 0., 0., 1., 0., 0., 1., 1.,\n",
              "       0., 0., 0., 0., 0., 1., 1., 0., 1., 1., 0., 0., 1., 0., 1., 0., 1.,\n",
              "       0., 0., 0., 0., 0., 1., 0., 1., 0., 1., 1., 0., 1., 1., 1., 0., 1.,\n",
              "       0., 0., 1., 0., 1., 0., 0., 0., 0., 1., 0., 0., 1., 0., 1., 0., 1.,\n",
              "       0., 1., 0., 1., 1., 0., 1., 0., 0., 0., 1., 0., 0., 0., 0., 0., 0.,\n",
              "       1., 1., 1., 1., 0., 0., 0., 0., 1., 0., 1., 1., 1., 0., 0., 0., 0.,\n",
              "       0., 0., 0., 1., 0., 0., 0., 1., 1., 0., 0., 0., 0., 1., 0., 0., 0.,\n",
              "       1., 1., 0., 1., 0., 0., 0., 0., 1., 1., 1., 1., 1., 0., 0., 0., 0.,\n",
              "       0., 0., 1., 0., 1., 0., 0., 1., 0., 0., 0., 0., 0., 0., 0., 1., 1.,\n",
              "       0., 1., 0., 1., 0., 0., 0., 1., 1., 1., 0., 0., 0., 0., 0., 0., 0.,\n",
              "       0., 1., 0., 1., 0., 0., 0., 1., 0., 0., 1., 0., 0., 0., 0., 0., 0.,\n",
              "       0., 0., 0., 1., 0., 1., 0., 1., 0., 1., 1., 0., 0., 0., 1., 0., 1.,\n",
              "       0., 0., 1., 0., 1., 1., 0., 1., 0., 0., 1., 1., 0., 0., 1., 0., 0.,\n",
              "       1., 1., 1., 0., 0., 0., 0., 0., 1., 1., 0., 1., 0., 0., 0., 0., 0.,\n",
              "       1., 1., 0., 0., 1., 0., 1., 0., 0., 1., 0., 1., 0., 0., 0., 0., 0.,\n",
              "       1., 1., 1., 1., 1., 0., 1., 0., 0., 1.])"
            ]
          },
          "metadata": {},
          "execution_count": 45
        }
      ],
      "source": [
        "y_pred_test_SVC"
      ]
    },
    {
      "cell_type": "code",
      "execution_count": 46,
      "id": "00025233",
      "metadata": {
        "execution": {
          "iopub.execute_input": "2022-03-14T17:22:44.276020Z",
          "iopub.status.busy": "2022-03-14T17:22:44.275431Z",
          "iopub.status.idle": "2022-03-14T17:22:44.282698Z",
          "shell.execute_reply": "2022-03-14T17:22:44.283186Z",
          "shell.execute_reply.started": "2022-03-14T17:19:38.312485Z"
        },
        "papermill": {
          "duration": 0.086383,
          "end_time": "2022-03-14T17:22:44.283356",
          "exception": false,
          "start_time": "2022-03-14T17:22:44.196973",
          "status": "completed"
        },
        "tags": [],
        "id": "00025233"
      },
      "outputs": [],
      "source": [
        "df_gender_submission = pd.read_csv('/content/titanic_gender_submission.csv')"
      ]
    },
    {
      "cell_type": "code",
      "execution_count": 47,
      "id": "026804f5",
      "metadata": {
        "execution": {
          "iopub.execute_input": "2022-03-14T17:22:44.436902Z",
          "iopub.status.busy": "2022-03-14T17:22:44.433687Z",
          "iopub.status.idle": "2022-03-14T17:22:44.441899Z",
          "shell.execute_reply": "2022-03-14T17:22:44.442517Z",
          "shell.execute_reply.started": "2022-03-14T17:21:39.011926Z"
        },
        "papermill": {
          "duration": 0.084293,
          "end_time": "2022-03-14T17:22:44.442673",
          "exception": false,
          "start_time": "2022-03-14T17:22:44.358380",
          "status": "completed"
        },
        "tags": [],
        "id": "026804f5"
      },
      "outputs": [],
      "source": [
        "# Sample Submission\n",
        "output = pd.DataFrame({'PassengerId': df_gender_submission.PassengerId, 'Survived': y_pred_test_SVC})\n",
        "\n",
        "output.to_csv(\"/content/submission.csv\", index = False)\n"
      ]
    }
  ],
  "metadata": {
    "kernelspec": {
      "display_name": "Python 3",
      "language": "python",
      "name": "python3"
    },
    "language_info": {
      "codemirror_mode": {
        "name": "ipython",
        "version": 3
      },
      "file_extension": ".py",
      "mimetype": "text/x-python",
      "name": "python",
      "nbconvert_exporter": "python",
      "pygments_lexer": "ipython3",
      "version": "3.7.12"
    },
    "papermill": {
      "default_parameters": {},
      "duration": 34.138413,
      "end_time": "2022-03-14T17:22:45.328021",
      "environment_variables": {},
      "exception": null,
      "input_path": "__notebook__.ipynb",
      "output_path": "__notebook__.ipynb",
      "parameters": {},
      "start_time": "2022-03-14T17:22:11.189608",
      "version": "2.3.3"
    },
    "colab": {
      "name": "titanic-dataset-prediction.ipynb",
      "provenance": [],
      "include_colab_link": true
    }
  },
  "nbformat": 4,
  "nbformat_minor": 5
}